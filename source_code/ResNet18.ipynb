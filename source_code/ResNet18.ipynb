{
 "cells": [
  {
   "cell_type": "code",
   "execution_count": 1,
   "metadata": {},
   "outputs": [],
   "source": [
    "import torch\n",
    "import torch.nn as nn\n",
    "import torch.optim as optim\n",
    "from sklearn.metrics import classification_report\n",
    "from tqdm import tqdm\n",
    "import matplotlib.pyplot as plt\n",
    "import os\n",
    "import numpy as np\n",
    "import seaborn as sns\n",
    "from sklearn.metrics import confusion_matrix"
   ]
  },
  {
   "cell_type": "code",
   "execution_count": 2,
   "metadata": {},
   "outputs": [],
   "source": [
    "import os\n",
    "import numpy as np\n",
    "from PIL import Image\n",
    "import torch\n",
    "from torch.utils.data import Dataset\n",
    "from torchvision import transforms\n",
    "import medmnist\n",
    "from medmnist import INFO, Evaluator\n",
    "import torchvision.transforms as transforms\n",
    "import torch.optim as optim\n",
    "\n",
    "class CustomPneumoniaMNIST(Dataset):\n",
    "    def __init__(self, npz_path, split='train', transform=None):\n",
    "        if not os.path.exists(npz_path):\n",
    "            raise FileNotFoundError(f\"The .npz file '{npz_path}' does not exist.\")\n",
    "\n",
    "        with np.load(npz_path, allow_pickle=True) as data:\n",
    "            images_key = f\"{split}_images\"\n",
    "            labels_key = f\"{split}_labels\"\n",
    "            if images_key not in data or labels_key not in data:\n",
    "                raise KeyError(f\"'{images_key}' or '{labels_key}' does not exist in the .npz file.\")\n",
    "            self.images = data[images_key]\n",
    "            self.labels = data[labels_key]\n",
    "\n",
    "        self.transform = transform\n",
    "\n",
    "    def __len__(self):\n",
    "        return self.images.shape[0]\n",
    "\n",
    "    def __getitem__(self, idx):\n",
    "        img = self.images[idx]\n",
    "        label = self.labels[idx][0]\n",
    "\n",
    "        img = Image.fromarray(img, mode='L')\n",
    "\n",
    "        if self.transform:\n",
    "            img = self.transform(img)\n",
    "\n",
    "        return img, label\n",
    "\n"
   ]
  },
  {
   "cell_type": "code",
   "execution_count": 3,
   "metadata": {},
   "outputs": [
    {
     "name": "stdout",
     "output_type": "stream",
     "text": [
      "<__main__.CustomPneumoniaMNIST object at 0x0000020290F1BEC0>\n",
      "===================\n",
      "<__main__.CustomPneumoniaMNIST object at 0x00000202F0A3B0B0>\n"
     ]
    }
   ],
   "source": [
    "data_flag = 'pneumoniamnist'\n",
    "download = False\n",
    "\n",
    "NUM_EPOCHS = 30\n",
    "BATCH_SIZE = 256\n",
    "lr = 0.001\n",
    "data_transform = transforms.Compose([\n",
    "    transforms.ToTensor(),\n",
    "    transforms.Normalize(mean=[.5], std=[.5])\n",
    "])\n",
    "info = INFO[data_flag]\n",
    "task = info['task']\n",
    "n_channels = info['n_channels']\n",
    "n_classes = len(info['label'])\n",
    "\n",
    "DATA_ROOT = os.path.join('.')\n",
    "npz_path = os.path.join(DATA_ROOT, 'pneumoniamnist.npz')\n",
    "\n",
    "train_dataset = CustomPneumoniaMNIST(\n",
    "    npz_path=npz_path,\n",
    "    split='train',\n",
    "    transform=data_transform\n",
    ")\n",
    "test_dataset = CustomPneumoniaMNIST(\n",
    "    npz_path = os.path.join(DATA_ROOT, 'pneumoniamnist.npz'),\n",
    "    split='test',\n",
    "    transform=data_transform\n",
    ")\n",
    "val_dataset = CustomPneumoniaMNIST(\n",
    "    npz_path = os.path.join(DATA_ROOT, 'pneumoniamnist.npz'),\n",
    "    split='val',\n",
    "    transform=data_transform\n",
    ")\n",
    "\n",
    "train_loader = torch.utils.data.DataLoader(dataset=train_dataset, batch_size=BATCH_SIZE, shuffle=True)\n",
    "val_loader = torch.utils.data.DataLoader(dataset=val_dataset, batch_size=2*BATCH_SIZE, shuffle=False)\n",
    "test_loader = torch.utils.data.DataLoader(dataset=test_dataset, batch_size=2*BATCH_SIZE, shuffle=False)\n",
    "print(train_dataset)\n",
    "print(\"===================\")\n",
    "print(test_dataset)\n"
   ]
  },
  {
   "cell_type": "code",
   "execution_count": 4,
   "metadata": {},
   "outputs": [],
   "source": [
    "import torch.nn as nn\n",
    "import torch.nn.functional as F\n",
    "\n",
    "from tqdm import tqdm\n",
    "class BasicBlock(nn.Module):\n",
    "    expansion = 1\n",
    "\n",
    "    def __init__(self, in_planes, planes, stride=1):\n",
    "        super(BasicBlock, self).__init__()\n",
    "        self.conv1 = nn.Conv2d(\n",
    "            in_planes, planes, kernel_size=3, stride=stride, padding=1, bias=False)\n",
    "        self.bn1 = nn.BatchNorm2d(planes)\n",
    "\n",
    "        self.conv2 = nn.Conv2d(planes, planes, kernel_size=3,\n",
    "                               stride=1, padding=1, bias=False)\n",
    "        self.bn2 = nn.BatchNorm2d(planes)\n",
    "\n",
    "        self.shortcut = nn.Sequential()\n",
    "        if stride != 1 or in_planes != self.expansion*planes:\n",
    "            self.shortcut = nn.Sequential(\n",
    "                nn.Conv2d(in_planes, self.expansion*planes,\n",
    "                          kernel_size=1, stride=stride, bias=False),\n",
    "                nn.BatchNorm2d(self.expansion*planes)\n",
    "            )\n",
    "\n",
    "    def forward(self, x):\n",
    "        out = F.relu(self.bn1(self.conv1(x)))\n",
    "        out = self.bn2(self.conv2(out))\n",
    "        out += self.shortcut(x)\n",
    "        out = F.relu(out)\n",
    "        return out\n",
    "\n",
    "class Bottleneck(nn.Module):\n",
    "    expansion = 4\n",
    "\n",
    "    def __init__(self, in_planes, planes, stride=1):\n",
    "        super(Bottleneck, self).__init__()\n",
    "        self.conv1 = nn.Conv2d(in_planes, planes, kernel_size=1, bias=False)\n",
    "        self.bn1 = nn.BatchNorm2d(planes)\n",
    "        self.conv2 = nn.Conv2d(planes, planes, kernel_size=3,\n",
    "                               stride=stride, padding=1, bias=False)\n",
    "        self.bn2 = nn.BatchNorm2d(planes)\n",
    "        self.conv3 = nn.Conv2d(planes, self.expansion *\n",
    "                               planes, kernel_size=1, bias=False)\n",
    "        self.bn3 = nn.BatchNorm2d(self.expansion*planes)\n",
    "\n",
    "        self.shortcut = nn.Sequential()\n",
    "        if stride != 1 or in_planes != self.expansion*planes:\n",
    "            self.shortcut = nn.Sequential(\n",
    "                nn.Conv2d(in_planes, self.expansion*planes,\n",
    "                          kernel_size=1, stride=stride, bias=False),\n",
    "                nn.BatchNorm2d(self.expansion*planes)\n",
    "            )\n",
    "\n",
    "    def forward(self, x):\n",
    "        out = F.relu(self.bn1(self.conv1(x)))\n",
    "        out = F.relu(self.bn2(self.conv2(out)))\n",
    "        out = self.bn3(self.conv3(out))\n",
    "        out += self.shortcut(x)\n",
    "        out = F.relu(out)\n",
    "        return out\n",
    "\n",
    "class ResNet(nn.Module):\n",
    "    def __init__(self, block, num_blocks, in_channels=1, num_classes=2):\n",
    "        super(ResNet, self).__init__()\n",
    "        self.in_planes = 64\n",
    "\n",
    "        self.conv1 = nn.Conv2d(in_channels, 64, kernel_size=3,\n",
    "                               stride=1, padding=1, bias=False)\n",
    "        self.bn1 = nn.BatchNorm2d(64)\n",
    "        self.layer1 = self._make_layer(block, 64, num_blocks[0], stride=1)\n",
    "        self.layer2 = self._make_layer(block, 128, num_blocks[1], stride=2)\n",
    "        self.layer3 = self._make_layer(block, 256, num_blocks[2], stride=2)\n",
    "        self.layer4 = self._make_layer(block, 512, num_blocks[3], stride=2)\n",
    "        self.avgpool = nn.AdaptiveAvgPool2d((1, 1))\n",
    "        self.linear = nn.Linear(512 * block.expansion, num_classes)\n",
    "\n",
    "    def _make_layer(self, block, planes, num_blocks, stride):\n",
    "        strides = [stride] + [1]*(num_blocks-1)\n",
    "        layers = []\n",
    "        for stride in strides:\n",
    "            layers.append(block(self.in_planes, planes, stride))\n",
    "            self.in_planes = planes * block.expansion\n",
    "        return nn.Sequential(*layers)\n",
    "\n",
    "    def forward(self, x):\n",
    "        out = F.relu(self.bn1(self.conv1(x)))\n",
    "        out = self.layer1(out)\n",
    "        out = self.layer2(out)\n",
    "        out = self.layer3(out)\n",
    "        out = self.layer4(out)\n",
    "        out = self.avgpool(out)\n",
    "        out = out.view(out.size(0), -1)\n",
    "        out = self.linear(out)\n",
    "        return out\n",
    "\n",
    "def ResNet18(in_channels, num_classes):\n",
    "    return ResNet(BasicBlock, [2, 2, 2, 2], in_channels=in_channels, num_classes=num_classes)\n",
    "\n",
    "def ResNet50(in_channels, num_classes):\n",
    "    return ResNet(Bottleneck, [3, 4, 6, 3], in_channels=in_channels, num_classes=num_classes)\n",
    "\n",
    "if task == \"multi-label, binary-class\":\n",
    "    criterion = nn.BCEWithLogitsLoss()\n",
    "else:\n",
    "    criterion = nn.CrossEntropyLoss()\n",
    "\n"
   ]
  },
  {
   "cell_type": "code",
   "execution_count": 46,
   "metadata": {},
   "outputs": [
    {
     "name": "stdout",
     "output_type": "stream",
     "text": [
      "Images shape: torch.Size([4708, 28, 28])\n",
      "Labels shape: torch.Size([4708, 1])\n",
      "Counter({1: 3494, 0: 1214})\n",
      "The Value 2 appears 0 times in the list\n"
     ]
    }
   ],
   "source": [
    "DATA_ROOT = os.path.join('.')\n",
    "train_dataset = CustomPneumoniaMNIST(\n",
    "    npz_path=os.path.join(DATA_ROOT, 'pneumoniamnist.npz'),\n",
    "    split='train',\n",
    "    transform=data_transform\n",
    ")\n",
    "generated_npz_path = npz_path\n",
    "augmented_train_data = np.load(generated_npz_path)\n",
    "\n",
    "# Access images and labels\n",
    "loaded_imgs = torch.tensor(augmented_train_data['train_images'])\n",
    "loaded_labels = torch.tensor(augmented_train_data['train_labels'])\n",
    "\n",
    "\n",
    "print(f\"Images shape: {loaded_imgs.shape}\")\n",
    "print(f\"Labels shape: {loaded_labels.shape}\")\n",
    "train_loader = torch.utils.data.DataLoader(dataset=train_dataset, batch_size=BATCH_SIZE, shuffle=True)\n",
    "counter = Counter(train_dataset.labels.squeeze())\n",
    "print (counter)\n",
    "value = 2\n",
    "print(f\"The Value {value} appears {counter[value]} times in the list\")"
   ]
  },
  {
   "cell_type": "code",
   "execution_count": 23,
   "metadata": {},
   "outputs": [
    {
     "name": "stderr",
     "output_type": "stream",
     "text": [
      "Training Epoch 1: 100%|██████████| 19/19 [00:03<00:00,  5.40it/s]\n"
     ]
    },
    {
     "name": "stdout",
     "output_type": "stream",
     "text": [
      "Epoch [1/30], Train Loss: 0.4509, Train Accuracy: 74.51%, Val Loss: 0.6527, Val Accuracy: 74.24%\n"
     ]
    },
    {
     "name": "stderr",
     "output_type": "stream",
     "text": [
      "Training Epoch 2: 100%|██████████| 19/19 [00:02<00:00,  7.99it/s]\n"
     ]
    },
    {
     "name": "stdout",
     "output_type": "stream",
     "text": [
      "Epoch [2/30], Train Loss: 0.1667, Train Accuracy: 93.52%, Val Loss: 0.8124, Val Accuracy: 74.24%\n"
     ]
    },
    {
     "name": "stderr",
     "output_type": "stream",
     "text": [
      "Training Epoch 3: 100%|██████████| 19/19 [00:02<00:00,  7.98it/s]\n"
     ]
    },
    {
     "name": "stdout",
     "output_type": "stream",
     "text": [
      "Epoch [3/30], Train Loss: 0.1106, Train Accuracy: 95.77%, Val Loss: 0.1149, Val Accuracy: 93.32%\n"
     ]
    },
    {
     "name": "stderr",
     "output_type": "stream",
     "text": [
      "Training Epoch 4: 100%|██████████| 19/19 [00:02<00:00,  8.04it/s]\n"
     ]
    },
    {
     "name": "stdout",
     "output_type": "stream",
     "text": [
      "Epoch [4/30], Train Loss: 0.0781, Train Accuracy: 97.26%, Val Loss: 0.0690, Val Accuracy: 95.99%\n"
     ]
    },
    {
     "name": "stderr",
     "output_type": "stream",
     "text": [
      "Training Epoch 5: 100%|██████████| 19/19 [00:02<00:00,  7.97it/s]\n"
     ]
    },
    {
     "name": "stdout",
     "output_type": "stream",
     "text": [
      "Epoch [5/30], Train Loss: 0.0575, Train Accuracy: 98.51%, Val Loss: 0.0721, Val Accuracy: 95.42%\n"
     ]
    },
    {
     "name": "stderr",
     "output_type": "stream",
     "text": [
      "Training Epoch 6: 100%|██████████| 19/19 [00:02<00:00,  7.99it/s]\n"
     ]
    },
    {
     "name": "stdout",
     "output_type": "stream",
     "text": [
      "Epoch [6/30], Train Loss: 0.0395, Train Accuracy: 99.17%, Val Loss: 0.0570, Val Accuracy: 96.18%\n"
     ]
    },
    {
     "name": "stderr",
     "output_type": "stream",
     "text": [
      "Training Epoch 7: 100%|██████████| 19/19 [00:02<00:00,  8.02it/s]\n"
     ]
    },
    {
     "name": "stdout",
     "output_type": "stream",
     "text": [
      "Epoch [7/30], Train Loss: 0.0264, Train Accuracy: 99.62%, Val Loss: 0.0512, Val Accuracy: 96.56%\n"
     ]
    },
    {
     "name": "stderr",
     "output_type": "stream",
     "text": [
      "Training Epoch 8: 100%|██████████| 19/19 [00:02<00:00,  7.98it/s]\n"
     ]
    },
    {
     "name": "stdout",
     "output_type": "stream",
     "text": [
      "Epoch [8/30], Train Loss: 0.0188, Train Accuracy: 99.87%, Val Loss: 0.0566, Val Accuracy: 96.95%\n"
     ]
    },
    {
     "name": "stderr",
     "output_type": "stream",
     "text": [
      "Training Epoch 9: 100%|██████████| 19/19 [00:02<00:00,  7.89it/s]\n"
     ]
    },
    {
     "name": "stdout",
     "output_type": "stream",
     "text": [
      "Epoch [9/30], Train Loss: 0.0128, Train Accuracy: 99.98%, Val Loss: 0.0465, Val Accuracy: 97.14%\n"
     ]
    },
    {
     "name": "stderr",
     "output_type": "stream",
     "text": [
      "Training Epoch 10: 100%|██████████| 19/19 [00:02<00:00,  7.82it/s]\n"
     ]
    },
    {
     "name": "stdout",
     "output_type": "stream",
     "text": [
      "Epoch [10/30], Train Loss: 0.0100, Train Accuracy: 99.98%, Val Loss: 0.0530, Val Accuracy: 96.56%\n"
     ]
    },
    {
     "name": "stderr",
     "output_type": "stream",
     "text": [
      "Training Epoch 11: 100%|██████████| 19/19 [00:02<00:00,  7.63it/s]\n"
     ]
    },
    {
     "name": "stdout",
     "output_type": "stream",
     "text": [
      "Epoch [11/30], Train Loss: 0.0071, Train Accuracy: 100.00%, Val Loss: 0.0469, Val Accuracy: 96.76%\n"
     ]
    },
    {
     "name": "stderr",
     "output_type": "stream",
     "text": [
      "Training Epoch 12: 100%|██████████| 19/19 [00:02<00:00,  7.76it/s]\n"
     ]
    },
    {
     "name": "stdout",
     "output_type": "stream",
     "text": [
      "Epoch [12/30], Train Loss: 0.0055, Train Accuracy: 100.00%, Val Loss: 0.0449, Val Accuracy: 96.76%\n"
     ]
    },
    {
     "name": "stderr",
     "output_type": "stream",
     "text": [
      "Training Epoch 13: 100%|██████████| 19/19 [00:02<00:00,  7.65it/s]\n"
     ]
    },
    {
     "name": "stdout",
     "output_type": "stream",
     "text": [
      "Epoch [13/30], Train Loss: 0.0042, Train Accuracy: 100.00%, Val Loss: 0.0428, Val Accuracy: 96.76%\n"
     ]
    },
    {
     "name": "stderr",
     "output_type": "stream",
     "text": [
      "Training Epoch 14: 100%|██████████| 19/19 [00:02<00:00,  7.61it/s]\n"
     ]
    },
    {
     "name": "stdout",
     "output_type": "stream",
     "text": [
      "Epoch [14/30], Train Loss: 0.0040, Train Accuracy: 100.00%, Val Loss: 0.0419, Val Accuracy: 96.95%\n"
     ]
    },
    {
     "name": "stderr",
     "output_type": "stream",
     "text": [
      "Training Epoch 15: 100%|██████████| 19/19 [00:02<00:00,  7.71it/s]\n"
     ]
    },
    {
     "name": "stdout",
     "output_type": "stream",
     "text": [
      "Epoch [15/30], Train Loss: 0.0033, Train Accuracy: 100.00%, Val Loss: 0.0425, Val Accuracy: 96.76%\n"
     ]
    },
    {
     "name": "stderr",
     "output_type": "stream",
     "text": [
      "Training Epoch 16: 100%|██████████| 19/19 [00:02<00:00,  7.72it/s]\n"
     ]
    },
    {
     "name": "stdout",
     "output_type": "stream",
     "text": [
      "Epoch [16/30], Train Loss: 0.0032, Train Accuracy: 100.00%, Val Loss: 0.0432, Val Accuracy: 96.95%\n"
     ]
    },
    {
     "name": "stderr",
     "output_type": "stream",
     "text": [
      "Training Epoch 17: 100%|██████████| 19/19 [00:02<00:00,  7.91it/s]\n"
     ]
    },
    {
     "name": "stdout",
     "output_type": "stream",
     "text": [
      "Epoch [17/30], Train Loss: 0.0028, Train Accuracy: 100.00%, Val Loss: 0.0434, Val Accuracy: 96.76%\n"
     ]
    },
    {
     "name": "stderr",
     "output_type": "stream",
     "text": [
      "Training Epoch 18: 100%|██████████| 19/19 [00:02<00:00,  7.82it/s]\n"
     ]
    },
    {
     "name": "stdout",
     "output_type": "stream",
     "text": [
      "Epoch [18/30], Train Loss: 0.0024, Train Accuracy: 100.00%, Val Loss: 0.0421, Val Accuracy: 96.95%\n"
     ]
    },
    {
     "name": "stderr",
     "output_type": "stream",
     "text": [
      "Training Epoch 19: 100%|██████████| 19/19 [00:02<00:00,  7.52it/s]\n"
     ]
    },
    {
     "name": "stdout",
     "output_type": "stream",
     "text": [
      "Epoch [19/30], Train Loss: 0.0020, Train Accuracy: 100.00%, Val Loss: 0.0421, Val Accuracy: 96.76%\n"
     ]
    },
    {
     "name": "stderr",
     "output_type": "stream",
     "text": [
      "Training Epoch 20: 100%|██████████| 19/19 [00:02<00:00,  7.69it/s]\n"
     ]
    },
    {
     "name": "stdout",
     "output_type": "stream",
     "text": [
      "Epoch [20/30], Train Loss: 0.0022, Train Accuracy: 100.00%, Val Loss: 0.0424, Val Accuracy: 97.14%\n"
     ]
    },
    {
     "name": "stderr",
     "output_type": "stream",
     "text": [
      "Training Epoch 21: 100%|██████████| 19/19 [00:02<00:00,  7.86it/s]\n"
     ]
    },
    {
     "name": "stdout",
     "output_type": "stream",
     "text": [
      "Epoch [21/30], Train Loss: 0.0016, Train Accuracy: 100.00%, Val Loss: 0.0414, Val Accuracy: 96.76%\n"
     ]
    },
    {
     "name": "stderr",
     "output_type": "stream",
     "text": [
      "Training Epoch 22: 100%|██████████| 19/19 [00:02<00:00,  7.67it/s]\n"
     ]
    },
    {
     "name": "stdout",
     "output_type": "stream",
     "text": [
      "Epoch [22/30], Train Loss: 0.0017, Train Accuracy: 100.00%, Val Loss: 0.0430, Val Accuracy: 97.14%\n"
     ]
    },
    {
     "name": "stderr",
     "output_type": "stream",
     "text": [
      "Training Epoch 23: 100%|██████████| 19/19 [00:02<00:00,  7.86it/s]\n"
     ]
    },
    {
     "name": "stdout",
     "output_type": "stream",
     "text": [
      "Epoch [23/30], Train Loss: 0.0016, Train Accuracy: 100.00%, Val Loss: 0.0421, Val Accuracy: 96.95%\n"
     ]
    },
    {
     "name": "stderr",
     "output_type": "stream",
     "text": [
      "Training Epoch 24: 100%|██████████| 19/19 [00:02<00:00,  6.94it/s]\n"
     ]
    },
    {
     "name": "stdout",
     "output_type": "stream",
     "text": [
      "Epoch [24/30], Train Loss: 0.0015, Train Accuracy: 100.00%, Val Loss: 0.0425, Val Accuracy: 96.95%\n"
     ]
    },
    {
     "name": "stderr",
     "output_type": "stream",
     "text": [
      "Training Epoch 25: 100%|██████████| 19/19 [00:02<00:00,  7.61it/s]\n"
     ]
    },
    {
     "name": "stdout",
     "output_type": "stream",
     "text": [
      "Epoch [25/30], Train Loss: 0.0015, Train Accuracy: 100.00%, Val Loss: 0.0416, Val Accuracy: 96.76%\n"
     ]
    },
    {
     "name": "stderr",
     "output_type": "stream",
     "text": [
      "Training Epoch 26: 100%|██████████| 19/19 [00:02<00:00,  7.36it/s]\n"
     ]
    },
    {
     "name": "stdout",
     "output_type": "stream",
     "text": [
      "Epoch [26/30], Train Loss: 0.0013, Train Accuracy: 100.00%, Val Loss: 0.0417, Val Accuracy: 96.95%\n"
     ]
    },
    {
     "name": "stderr",
     "output_type": "stream",
     "text": [
      "Training Epoch 27: 100%|██████████| 19/19 [00:02<00:00,  7.61it/s]\n"
     ]
    },
    {
     "name": "stdout",
     "output_type": "stream",
     "text": [
      "Epoch [27/30], Train Loss: 0.0011, Train Accuracy: 100.00%, Val Loss: 0.0413, Val Accuracy: 96.95%\n"
     ]
    },
    {
     "name": "stderr",
     "output_type": "stream",
     "text": [
      "Training Epoch 28: 100%|██████████| 19/19 [00:02<00:00,  7.74it/s]\n"
     ]
    },
    {
     "name": "stdout",
     "output_type": "stream",
     "text": [
      "Epoch [28/30], Train Loss: 0.0011, Train Accuracy: 100.00%, Val Loss: 0.0438, Val Accuracy: 97.14%\n"
     ]
    },
    {
     "name": "stderr",
     "output_type": "stream",
     "text": [
      "Training Epoch 29: 100%|██████████| 19/19 [00:02<00:00,  7.19it/s]\n"
     ]
    },
    {
     "name": "stdout",
     "output_type": "stream",
     "text": [
      "Epoch [29/30], Train Loss: 0.0009, Train Accuracy: 100.00%, Val Loss: 0.0426, Val Accuracy: 96.95%\n"
     ]
    },
    {
     "name": "stderr",
     "output_type": "stream",
     "text": [
      "Training Epoch 30: 100%|██████████| 19/19 [00:02<00:00,  7.74it/s]\n"
     ]
    },
    {
     "name": "stdout",
     "output_type": "stream",
     "text": [
      "Epoch [30/30], Train Loss: 0.0011, Train Accuracy: 100.00%, Val Loss: 0.0433, Val Accuracy: 96.95%\n"
     ]
    },
    {
     "data": {
      "image/png": "[encoded data removed]",
      "text/plain": [
       "<Figure size 1000x600 with 1 Axes>"
      ]
     },
     "metadata": {},
     "output_type": "display_data"
    },
    {
     "data": {
      "image/png": "[encoded data removed]",
      "text/plain": [
       "<Figure size 1000x600 with 1 Axes>"
      ]
     },
     "metadata": {},
     "output_type": "display_data"
    },
    {
     "name": "stdout",
     "output_type": "stream",
     "text": [
      "              precision    recall  f1-score   support\n",
      "\n",
      "     Class 0       0.98      0.61      0.75       234\n",
      "     Class 1       0.81      0.99      0.89       390\n",
      "\n",
      "    accuracy                           0.85       624\n",
      "   macro avg       0.89      0.80      0.82       624\n",
      "weighted avg       0.87      0.85      0.84       624\n",
      "\n"
     ]
    },
    {
     "data": {
      "image/png": "[encoded data removed]",
      "text/plain": [
       "<Figure size 600x400 with 2 Axes>"
      ]
     },
     "metadata": {},
     "output_type": "display_data"
    }
   ],
   "source": [
    "#origin resnet18\n",
    "import torch\n",
    "import torch.nn as nn\n",
    "import torch.optim as optim\n",
    "from sklearn.metrics import classification_report\n",
    "from tqdm import tqdm\n",
    "import matplotlib.pyplot as plt\n",
    "import os\n",
    "import numpy as np\n",
    "import seaborn as sns\n",
    "from sklearn.metrics import confusion_matrix\n",
    "DATA_ROOT = os.path.join('.', 'origin')\n",
    "train_dataset = CustomPneumoniaMNIST(\n",
    "    npz_path=os.path.join(DATA_ROOT, 'pneumoniamnist.npz'),\n",
    "    split='train',\n",
    "    transform=data_transform\n",
    ")\n",
    "train_loader = torch.utils.data.DataLoader(dataset=train_dataset, batch_size=BATCH_SIZE, shuffle=True)\n",
    "device = torch.device(\"cuda\" if torch.cuda.is_available() else \"cpu\")\n",
    "\n",
    "model = ResNet18(in_channels=n_channels, num_classes=n_classes).to(device)\n",
    "optimizer = optim.SGD(model.parameters(), lr=lr, momentum=0.9)\n",
    "criterion = nn.CrossEntropyLoss()\n",
    "train_losses = []\n",
    "val_losses = []\n",
    "train_accuracies = []\n",
    "val_accuracies = []\n",
    "seed = 42\n",
    "torch.manual_seed(seed)\n",
    "# Training loop\n",
    "for epoch in range(NUM_EPOCHS):\n",
    "    model.train()\n",
    "    running_train_loss = 0.0\n",
    "    correct_train = 0\n",
    "    total_train = 0\n",
    "    for inputs, targets in tqdm(train_loader, desc=f\"Training Epoch {epoch + 1}\"):\n",
    "        inputs, targets = inputs.to(device), targets.to(device)\n",
    "        optimizer.zero_grad()\n",
    "        outputs = model(inputs)\n",
    "        loss = criterion(outputs, targets)\n",
    "        loss.backward()\n",
    "        optimizer.step()\n",
    "        running_train_loss += loss.item()\n",
    "\n",
    "        _, predicted = torch.max(outputs, 1)\n",
    "        correct_train += (predicted == targets).sum().item()\n",
    "        total_train += targets.size(0)\n",
    "\n",
    "    train_loss = running_train_loss / len(train_loader)\n",
    "    train_accuracy = correct_train / total_train * 100\n",
    "    train_losses.append(train_loss)\n",
    "    train_accuracies.append(train_accuracy)\n",
    "\n",
    "    # Validation loop\n",
    "    model.eval()\n",
    "    running_val_loss = 0.0\n",
    "    correct_val = 0\n",
    "    total_val = 0\n",
    "    with torch.no_grad():\n",
    "        for inputs, targets in val_loader:\n",
    "            inputs, targets = inputs.to(device), targets.to(device)\n",
    "            outputs = model(inputs)\n",
    "            loss = criterion(outputs, targets)\n",
    "            running_val_loss += loss.item()\n",
    "\n",
    "            _, predicted = torch.max(outputs, 1)\n",
    "            correct_val += (predicted == targets).sum().item()\n",
    "            total_val += targets.size(0)\n",
    "\n",
    "    val_loss = running_val_loss / len(val_loader)\n",
    "    val_accuracy = correct_val / total_val * 100\n",
    "    val_losses.append(val_loss)\n",
    "    val_accuracies.append(val_accuracy)\n",
    "\n",
    "    print(f\"Epoch [{epoch + 1}/{NUM_EPOCHS}], Train Loss: {train_loss:.4f}, Train Accuracy: {train_accuracy:.2f}%, Val Loss: {val_loss:.4f}, Val Accuracy: {val_accuracy:.2f}%\")\n",
    "\n",
    "# Plot training and validation loss\n",
    "plt.figure(figsize=(10, 6))\n",
    "plt.plot(range(1, NUM_EPOCHS + 1), train_losses, label='Training Loss')\n",
    "plt.plot(range(1, NUM_EPOCHS + 1), val_losses, label='Validation Loss')\n",
    "plt.xlabel('Epoch')\n",
    "plt.ylabel('Loss')\n",
    "plt.title('Training and Validation Loss')\n",
    "plt.legend()\n",
    "plt.grid()\n",
    "plt.show()\n",
    "\n",
    "# Plot training and validation accuracy\n",
    "plt.figure(figsize=(10, 6))\n",
    "plt.plot(range(1, NUM_EPOCHS + 1), train_accuracies, label='Training Accuracy')\n",
    "plt.plot(range(1, NUM_EPOCHS + 1), val_accuracies, label='Validation Accuracy')\n",
    "plt.xlabel('Epoch')\n",
    "plt.ylabel('Accuracy (%)')\n",
    "plt.title('Training and Validation Accuracy')\n",
    "plt.legend()\n",
    "plt.grid()\n",
    "plt.show()\n",
    "\n",
    "# Evaluation on test data\n",
    "all_preds = []\n",
    "all_targets = []\n",
    "model.eval()\n",
    "with torch.no_grad():\n",
    "    for inputs, targets in test_loader:\n",
    "        inputs, targets = inputs.to(device), targets.to(device)\n",
    "        outputs = model(inputs)\n",
    "        _, predicted = torch.max(outputs, 1)\n",
    "        all_preds.extend(predicted.cpu().numpy())\n",
    "        all_targets.extend(targets.cpu().numpy())\n",
    "\n",
    "target_names = [\"Class 0\", \"Class 1\"]\n",
    "report = classification_report(all_targets, all_preds, target_names=target_names)\n",
    "print(report)\n",
    "\n",
    "# 生成混淆矩阵\n",
    "cm = confusion_matrix(all_targets, all_preds)\n",
    "\n",
    "# 绘制混淆矩阵热图\n",
    "plt.figure(figsize=(6, 4))\n",
    "sns.heatmap(cm, annot=True, fmt='d', cmap='Blues', xticklabels=target_names, yticklabels=target_names)\n",
    "plt.xlabel('Predicted Labels')\n",
    "plt.ylabel('True Labels')\n",
    "plt.title('Confusion Matrix')\n",
    "plt.show()\n",
    "\n"
   ]
  },
  {
   "cell_type": "code",
   "execution_count": 72,
   "metadata": {},
   "outputs": [
    {
     "name": "stdout",
     "output_type": "stream",
     "text": [
      "文件中的键名及其对应维度：\n",
      "train_images: (4708, 28, 28)\n",
      "val_images: (524, 28, 28)\n",
      "test_images: (624, 28, 28)\n",
      "train_labels: (4708, 1)\n",
      "val_labels: (524, 1)\n",
      "test_labels: (624, 1)\n",
      "Label 的前 10 个值：\n",
      "[[1]\n",
      " [1]\n",
      " [1]\n",
      " [1]\n",
      " [1]\n",
      " [0]\n",
      " [1]\n",
      " [0]\n",
      " [1]\n",
      " [1]]\n",
      "文件中的所有键名：\n",
      "['train_images', 'val_images', 'test_images', 'train_labels', 'val_labels', 'test_labels']\n"
     ]
    }
   ],
   "source": [
    "import numpy as np\n",
    "DATA_ROOT = os.path.join('.','origin')\n",
    "npz_path=os.path.join(DATA_ROOT, 'pneumoniamnist.npz')\n",
    "# 加载 npz 文件\n",
    "file_path = npz_path # 替换为你的 .npz 文件路径\n",
    "data = np.load(file_path)\n",
    "\n",
    "# 输出键名和数据维度\n",
    "print(\"文件中的键名及其对应维度：\")\n",
    "for key in data.keys():\n",
    "    print(f\"{key}: {data[key].shape}\")\n",
    "\n",
    "# 加载 npz 文件\n",
    "\n",
    "# 检查是否存在 'label' 键\n",
    "if 'train_labels' in data:\n",
    "    labels = data['train_labels']  # 提取 label 数据\n",
    "    print(\"Label 的前 10 个值：\")\n",
    "    print(labels[:10])  # 输出前 10 个值\n",
    "\n",
    "print(\"文件中的所有键名：\")\n",
    "print(list(data.keys()))\n"
   ]
  },
  {
   "cell_type": "code",
   "execution_count": 60,
   "metadata": {},
   "outputs": [
    {
     "name": "stdout",
     "output_type": "stream",
     "text": [
      "Images shape: torch.Size([4708, 28, 28])\n",
      "Labels shape: torch.Size([4708, 1])\n",
      "Counter({0: 3494, 1: 3494})\n",
      "The Value 2 appears 0 times in the list\n"
     ]
    }
   ],
   "source": [
    "DATA_ROOT = os.path.join('.','DCGAN')\n",
    "train_dataset = CustomPneumoniaMNIST(\n",
    "    npz_path=os.path.join(DATA_ROOT, 'Merge_DCGAN_data.npz'),\n",
    "    split='train',\n",
    "    transform=data_transform\n",
    ")\n",
    "generated_npz_path = npz_path\n",
    "augmented_train_data = np.load(generated_npz_path)\n",
    "\n",
    "# Access images and labels\n",
    "loaded_imgs = torch.tensor(augmented_train_data['train_images'])\n",
    "loaded_labels = torch.tensor(augmented_train_data['train_labels'])\n",
    "\n",
    "\n",
    "print(f\"Images shape: {loaded_imgs.shape}\")\n",
    "print(f\"Labels shape: {loaded_labels.shape}\")\n",
    "train_loader = torch.utils.data.DataLoader(dataset=train_dataset, batch_size=BATCH_SIZE, shuffle=True)\n",
    "counter = Counter(train_dataset.labels.squeeze())\n",
    "print (counter)\n",
    "value = 2\n",
    "print(f\"The Value {value} appears {counter[value]} times in the list\")"
   ]
  },
  {
   "cell_type": "code",
   "execution_count": 73,
   "metadata": {},
   "outputs": [
    {
     "name": "stdout",
     "output_type": "stream",
     "text": [
      "文件中的键名及其对应维度：\n",
      "train_images: (6988, 28, 28)\n",
      "train_labels: (6988,)\n",
      "test_images: (624, 28, 28)\n",
      "test_labels: (624,)\n",
      "val_images: (524, 28, 28)\n",
      "val_labels: (524,)\n",
      "Label 的前 10 个值：\n",
      "[0 0 0 1 0 0 0 1 0 0]\n",
      "文件中的所有键名：\n",
      "['train_images', 'train_labels', 'test_images', 'test_labels', 'val_images', 'val_labels']\n"
     ]
    }
   ],
   "source": [
    "import numpy as np\n",
    "DATA_ROOT = os.path.join('.','DCGAN')\n",
    "npz_path=os.path.join(DATA_ROOT, 'Merge_DCGAN_data.npz')\n",
    "# 加载 npz 文件\n",
    "file_path = npz_path # 替换为你的 .npz 文件路径\n",
    "data = np.load(file_path)\n",
    "\n",
    "# 输出键名和数据维度\n",
    "print(\"文件中的键名及其对应维度：\")\n",
    "for key in data.keys():\n",
    "    print(f\"{key}: {data[key].shape}\")\n",
    "\n",
    "# 加载 npz 文件\n",
    "\n",
    "# 检查是否存在 'label' 键\n",
    "if 'train_labels' in data:\n",
    "    labels = data['train_labels']  # 提取 label 数据\n",
    "    print(\"Label 的前 10 个值：\")\n",
    "    print(labels[:10])  # 输出前 10 个值\n",
    "\n",
    "print(\"文件中的所有键名：\")\n",
    "print(list(data.keys()))\n"
   ]
  },
  {
   "cell_type": "code",
   "execution_count": 74,
   "metadata": {},
   "outputs": [
    {
     "name": "stdout",
     "output_type": "stream",
     "text": [
      "已将标签维度调整为二维数组，保存为 .\\DCGAN\\Merge_DCGAN_data1.npz\n"
     ]
    }
   ],
   "source": [
    "import numpy as np\n",
    "\n",
    "# 加载 npz 文件\n",
    "file_path = npz_path  # 替换为图二对应的文件路径\n",
    "data = np.load(file_path)\n",
    "\n",
    "# 创建新的字典，调整标签维度\n",
    "new_data = {}\n",
    "for key in data.keys():\n",
    "    if 'labels' in key:  # 对包含 'labels' 的键调整维度\n",
    "        new_data[key] = data[key].reshape(-1, 1)  # 转为二维数组\n",
    "    else:\n",
    "        new_data[key] = data[key]  # 保持其他数据不变\n",
    "\n",
    "# 保存新的 npz 文件\n",
    "new_file_path =os.path.join(DATA_ROOT, 'Merge_DCGAN_data1.npz')  # 新文件路径\n",
    "np.savez(new_file_path, **new_data)\n",
    "\n",
    "print(f\"已将标签维度调整为二维数组，保存为 {new_file_path}\")\n"
   ]
  },
  {
   "cell_type": "code",
   "execution_count": 75,
   "metadata": {},
   "outputs": [
    {
     "name": "stderr",
     "output_type": "stream",
     "text": [
      "Training Epoch 1: 100%|██████████| 28/28 [00:05<00:00,  5.36it/s]\n"
     ]
    },
    {
     "name": "stdout",
     "output_type": "stream",
     "text": [
      "Epoch [1/30], Train Loss: 0.3140, Train Accuracy: 84.72%, Val Loss: 1.0354, Val Accuracy: 74.24%\n"
     ]
    },
    {
     "name": "stderr",
     "output_type": "stream",
     "text": [
      "Training Epoch 2: 100%|██████████| 28/28 [00:05<00:00,  5.12it/s]\n"
     ]
    },
    {
     "name": "stdout",
     "output_type": "stream",
     "text": [
      "Epoch [2/30], Train Loss: 0.0997, Train Accuracy: 96.42%, Val Loss: 0.1665, Val Accuracy: 92.18%\n"
     ]
    },
    {
     "name": "stderr",
     "output_type": "stream",
     "text": [
      "Training Epoch 3: 100%|██████████| 28/28 [00:05<00:00,  5.21it/s]\n"
     ]
    },
    {
     "name": "stdout",
     "output_type": "stream",
     "text": [
      "Epoch [3/30], Train Loss: 0.0660, Train Accuracy: 97.70%, Val Loss: 0.0904, Val Accuracy: 95.42%\n"
     ]
    },
    {
     "name": "stderr",
     "output_type": "stream",
     "text": [
      "Training Epoch 4: 100%|██████████| 28/28 [00:05<00:00,  5.60it/s]\n"
     ]
    },
    {
     "name": "stdout",
     "output_type": "stream",
     "text": [
      "Epoch [4/30], Train Loss: 0.0461, Train Accuracy: 98.64%, Val Loss: 0.0883, Val Accuracy: 95.80%\n"
     ]
    },
    {
     "name": "stderr",
     "output_type": "stream",
     "text": [
      "Training Epoch 5: 100%|██████████| 28/28 [00:05<00:00,  5.53it/s]\n"
     ]
    },
    {
     "name": "stdout",
     "output_type": "stream",
     "text": [
      "Epoch [5/30], Train Loss: 0.0313, Train Accuracy: 99.27%, Val Loss: 0.0773, Val Accuracy: 95.80%\n"
     ]
    },
    {
     "name": "stderr",
     "output_type": "stream",
     "text": [
      "Training Epoch 6: 100%|██████████| 28/28 [00:05<00:00,  5.53it/s]\n"
     ]
    },
    {
     "name": "stdout",
     "output_type": "stream",
     "text": [
      "Epoch [6/30], Train Loss: 0.0219, Train Accuracy: 99.66%, Val Loss: 0.0674, Val Accuracy: 96.18%\n"
     ]
    },
    {
     "name": "stderr",
     "output_type": "stream",
     "text": [
      "Training Epoch 7: 100%|██████████| 28/28 [00:05<00:00,  5.18it/s]\n"
     ]
    },
    {
     "name": "stdout",
     "output_type": "stream",
     "text": [
      "Epoch [7/30], Train Loss: 0.0134, Train Accuracy: 99.90%, Val Loss: 0.0600, Val Accuracy: 96.37%\n"
     ]
    },
    {
     "name": "stderr",
     "output_type": "stream",
     "text": [
      "Training Epoch 8: 100%|██████████| 28/28 [00:05<00:00,  5.06it/s]\n"
     ]
    },
    {
     "name": "stdout",
     "output_type": "stream",
     "text": [
      "Epoch [8/30], Train Loss: 0.0102, Train Accuracy: 99.96%, Val Loss: 0.0594, Val Accuracy: 95.80%\n"
     ]
    },
    {
     "name": "stderr",
     "output_type": "stream",
     "text": [
      "Training Epoch 9: 100%|██████████| 28/28 [00:05<00:00,  5.09it/s]\n"
     ]
    },
    {
     "name": "stdout",
     "output_type": "stream",
     "text": [
      "Epoch [9/30], Train Loss: 0.0081, Train Accuracy: 99.97%, Val Loss: 0.0582, Val Accuracy: 95.61%\n"
     ]
    },
    {
     "name": "stderr",
     "output_type": "stream",
     "text": [
      "Training Epoch 10: 100%|██████████| 28/28 [00:05<00:00,  5.12it/s]\n"
     ]
    },
    {
     "name": "stdout",
     "output_type": "stream",
     "text": [
      "Epoch [10/30], Train Loss: 0.0053, Train Accuracy: 100.00%, Val Loss: 0.0580, Val Accuracy: 95.99%\n"
     ]
    },
    {
     "name": "stderr",
     "output_type": "stream",
     "text": [
      "Training Epoch 11: 100%|██████████| 28/28 [00:05<00:00,  4.96it/s]\n"
     ]
    },
    {
     "name": "stdout",
     "output_type": "stream",
     "text": [
      "Epoch [11/30], Train Loss: 0.0041, Train Accuracy: 100.00%, Val Loss: 0.0574, Val Accuracy: 96.18%\n"
     ]
    },
    {
     "name": "stderr",
     "output_type": "stream",
     "text": [
      "Training Epoch 12: 100%|██████████| 28/28 [00:05<00:00,  5.04it/s]\n"
     ]
    },
    {
     "name": "stdout",
     "output_type": "stream",
     "text": [
      "Epoch [12/30], Train Loss: 0.0035, Train Accuracy: 100.00%, Val Loss: 0.0553, Val Accuracy: 95.61%\n"
     ]
    },
    {
     "name": "stderr",
     "output_type": "stream",
     "text": [
      "Training Epoch 13: 100%|██████████| 28/28 [00:05<00:00,  5.05it/s]\n"
     ]
    },
    {
     "name": "stdout",
     "output_type": "stream",
     "text": [
      "Epoch [13/30], Train Loss: 0.0027, Train Accuracy: 100.00%, Val Loss: 0.0612, Val Accuracy: 96.76%\n"
     ]
    },
    {
     "name": "stderr",
     "output_type": "stream",
     "text": [
      "Training Epoch 14: 100%|██████████| 28/28 [00:05<00:00,  5.13it/s]\n"
     ]
    },
    {
     "name": "stdout",
     "output_type": "stream",
     "text": [
      "Epoch [14/30], Train Loss: 0.0022, Train Accuracy: 100.00%, Val Loss: 0.0579, Val Accuracy: 96.56%\n"
     ]
    },
    {
     "name": "stderr",
     "output_type": "stream",
     "text": [
      "Training Epoch 15: 100%|██████████| 28/28 [00:05<00:00,  5.16it/s]\n"
     ]
    },
    {
     "name": "stdout",
     "output_type": "stream",
     "text": [
      "Epoch [15/30], Train Loss: 0.0018, Train Accuracy: 100.00%, Val Loss: 0.0549, Val Accuracy: 95.80%\n"
     ]
    },
    {
     "name": "stderr",
     "output_type": "stream",
     "text": [
      "Training Epoch 16: 100%|██████████| 28/28 [00:06<00:00,  4.65it/s]\n"
     ]
    },
    {
     "name": "stdout",
     "output_type": "stream",
     "text": [
      "Epoch [16/30], Train Loss: 0.0016, Train Accuracy: 100.00%, Val Loss: 0.0547, Val Accuracy: 95.99%\n"
     ]
    },
    {
     "name": "stderr",
     "output_type": "stream",
     "text": [
      "Training Epoch 17: 100%|██████████| 28/28 [00:05<00:00,  5.40it/s]\n"
     ]
    },
    {
     "name": "stdout",
     "output_type": "stream",
     "text": [
      "Epoch [17/30], Train Loss: 0.0016, Train Accuracy: 100.00%, Val Loss: 0.0556, Val Accuracy: 95.99%\n"
     ]
    },
    {
     "name": "stderr",
     "output_type": "stream",
     "text": [
      "Training Epoch 18: 100%|██████████| 28/28 [00:05<00:00,  5.40it/s]\n"
     ]
    },
    {
     "name": "stdout",
     "output_type": "stream",
     "text": [
      "Epoch [18/30], Train Loss: 0.0014, Train Accuracy: 100.00%, Val Loss: 0.0547, Val Accuracy: 95.80%\n"
     ]
    },
    {
     "name": "stderr",
     "output_type": "stream",
     "text": [
      "Training Epoch 19: 100%|██████████| 28/28 [00:05<00:00,  5.33it/s]\n"
     ]
    },
    {
     "name": "stdout",
     "output_type": "stream",
     "text": [
      "Epoch [19/30], Train Loss: 0.0013, Train Accuracy: 100.00%, Val Loss: 0.0549, Val Accuracy: 95.99%\n"
     ]
    },
    {
     "name": "stderr",
     "output_type": "stream",
     "text": [
      "Training Epoch 20: 100%|██████████| 28/28 [00:05<00:00,  5.15it/s]\n"
     ]
    },
    {
     "name": "stdout",
     "output_type": "stream",
     "text": [
      "Epoch [20/30], Train Loss: 0.0011, Train Accuracy: 100.00%, Val Loss: 0.0543, Val Accuracy: 95.99%\n"
     ]
    },
    {
     "name": "stderr",
     "output_type": "stream",
     "text": [
      "Training Epoch 21: 100%|██████████| 28/28 [00:05<00:00,  5.06it/s]\n"
     ]
    },
    {
     "name": "stdout",
     "output_type": "stream",
     "text": [
      "Epoch [21/30], Train Loss: 0.0010, Train Accuracy: 100.00%, Val Loss: 0.0534, Val Accuracy: 95.80%\n"
     ]
    },
    {
     "name": "stderr",
     "output_type": "stream",
     "text": [
      "Training Epoch 22: 100%|██████████| 28/28 [00:05<00:00,  4.96it/s]\n"
     ]
    },
    {
     "name": "stdout",
     "output_type": "stream",
     "text": [
      "Epoch [22/30], Train Loss: 0.0011, Train Accuracy: 100.00%, Val Loss: 0.0542, Val Accuracy: 95.99%\n"
     ]
    },
    {
     "name": "stderr",
     "output_type": "stream",
     "text": [
      "Training Epoch 23: 100%|██████████| 28/28 [00:05<00:00,  4.97it/s]\n"
     ]
    },
    {
     "name": "stdout",
     "output_type": "stream",
     "text": [
      "Epoch [23/30], Train Loss: 0.0009, Train Accuracy: 100.00%, Val Loss: 0.0534, Val Accuracy: 95.80%\n"
     ]
    },
    {
     "name": "stderr",
     "output_type": "stream",
     "text": [
      "Training Epoch 24: 100%|██████████| 28/28 [00:05<00:00,  5.02it/s]\n"
     ]
    },
    {
     "name": "stdout",
     "output_type": "stream",
     "text": [
      "Epoch [24/30], Train Loss: 0.0010, Train Accuracy: 100.00%, Val Loss: 0.0578, Val Accuracy: 96.37%\n"
     ]
    },
    {
     "name": "stderr",
     "output_type": "stream",
     "text": [
      "Training Epoch 25: 100%|██████████| 28/28 [00:05<00:00,  5.04it/s]\n"
     ]
    },
    {
     "name": "stdout",
     "output_type": "stream",
     "text": [
      "Epoch [25/30], Train Loss: 0.0008, Train Accuracy: 100.00%, Val Loss: 0.0551, Val Accuracy: 95.80%\n"
     ]
    },
    {
     "name": "stderr",
     "output_type": "stream",
     "text": [
      "Training Epoch 26: 100%|██████████| 28/28 [00:05<00:00,  4.90it/s]\n"
     ]
    },
    {
     "name": "stdout",
     "output_type": "stream",
     "text": [
      "Epoch [26/30], Train Loss: 0.0007, Train Accuracy: 100.00%, Val Loss: 0.0540, Val Accuracy: 95.80%\n"
     ]
    },
    {
     "name": "stderr",
     "output_type": "stream",
     "text": [
      "Training Epoch 27: 100%|██████████| 28/28 [00:05<00:00,  4.78it/s]\n"
     ]
    },
    {
     "name": "stdout",
     "output_type": "stream",
     "text": [
      "Epoch [27/30], Train Loss: 0.0006, Train Accuracy: 100.00%, Val Loss: 0.0548, Val Accuracy: 95.99%\n"
     ]
    },
    {
     "name": "stderr",
     "output_type": "stream",
     "text": [
      "Training Epoch 28: 100%|██████████| 28/28 [00:05<00:00,  4.99it/s]\n"
     ]
    },
    {
     "name": "stdout",
     "output_type": "stream",
     "text": [
      "Epoch [28/30], Train Loss: 0.0008, Train Accuracy: 100.00%, Val Loss: 0.0556, Val Accuracy: 95.99%\n"
     ]
    },
    {
     "name": "stderr",
     "output_type": "stream",
     "text": [
      "Training Epoch 29: 100%|██████████| 28/28 [00:05<00:00,  5.28it/s]\n"
     ]
    },
    {
     "name": "stdout",
     "output_type": "stream",
     "text": [
      "Epoch [29/30], Train Loss: 0.0006, Train Accuracy: 100.00%, Val Loss: 0.0548, Val Accuracy: 96.37%\n"
     ]
    },
    {
     "name": "stderr",
     "output_type": "stream",
     "text": [
      "Training Epoch 30: 100%|██████████| 28/28 [00:05<00:00,  5.20it/s]\n"
     ]
    },
    {
     "name": "stdout",
     "output_type": "stream",
     "text": [
      "Epoch [30/30], Train Loss: 0.0006, Train Accuracy: 100.00%, Val Loss: 0.0547, Val Accuracy: 95.99%\n"
     ]
    },
    {
     "data": {
      "image/png": "[encoded data removed]",
      "text/plain": [
       "<Figure size 1000x600 with 1 Axes>"
      ]
     },
     "metadata": {},
     "output_type": "display_data"
    },
    {
     "data": {
      "image/png": "[encoded data removed]",
      "text/plain": [
       "<Figure size 1000x600 with 1 Axes>"
      ]
     },
     "metadata": {},
     "output_type": "display_data"
    },
    {
     "name": "stdout",
     "output_type": "stream",
     "text": [
      "              precision    recall  f1-score   support\n",
      "\n",
      "     Class 0       0.98      0.62      0.76       234\n",
      "     Class 1       0.81      0.99      0.89       390\n",
      "\n",
      "    accuracy                           0.85       624\n",
      "   macro avg       0.90      0.81      0.83       624\n",
      "weighted avg       0.88      0.85      0.85       624\n",
      "\n"
     ]
    },
    {
     "data": {
      "image/png": "[encoded data removed]",
      "text/plain": [
       "<Figure size 600x400 with 2 Axes>"
      ]
     },
     "metadata": {},
     "output_type": "display_data"
    }
   ],
   "source": [
    "#DCGAN resnet18\n",
    "import torch\n",
    "import torch.nn as nn\n",
    "import torch.optim as optim\n",
    "from sklearn.metrics import classification_report\n",
    "from tqdm import tqdm\n",
    "import matplotlib.pyplot as plt\n",
    "import os\n",
    "import numpy as np\n",
    "import seaborn as sns\n",
    "from sklearn.metrics import confusion_matrix\n",
    "DATA_ROOT = os.path.join('.', 'DCGAN')\n",
    "train_dataset = CustomPneumoniaMNIST(\n",
    "    npz_path=os.path.join(DATA_ROOT, 'Merge_DCGAN_data1.npz'),\n",
    "    split='train',\n",
    "    transform=data_transform\n",
    ")\n",
    "train_loader = torch.utils.data.DataLoader(dataset=train_dataset, batch_size=BATCH_SIZE, shuffle=True)\n",
    "device = torch.device(\"cuda\" if torch.cuda.is_available() else \"cpu\")\n",
    "\n",
    "model = ResNet18(in_channels=n_channels, num_classes=n_classes).to(device)\n",
    "optimizer = optim.SGD(model.parameters(), lr=lr, momentum=0.9)\n",
    "criterion = nn.CrossEntropyLoss()\n",
    "train_losses = []\n",
    "val_losses = []\n",
    "train_accuracies = []\n",
    "val_accuracies = []\n",
    "seed = 42\n",
    "torch.manual_seed(seed)\n",
    "\n",
    "# Training loop\n",
    "for epoch in range(NUM_EPOCHS):\n",
    "    model.train()\n",
    "    running_train_loss = 0.0\n",
    "    correct_train = 0\n",
    "    total_train = 0\n",
    "\n",
    "    for inputs, targets in tqdm(train_loader, desc=f\"Training Epoch {epoch + 1}\"):\n",
    "        inputs, targets = inputs.to(device), targets.to(device)\n",
    "        optimizer.zero_grad()\n",
    "        outputs = model(inputs)\n",
    "        loss = criterion(outputs, targets)\n",
    "        loss.backward()\n",
    "        optimizer.step()\n",
    "        running_train_loss += loss.item()\n",
    "\n",
    "        _, predicted = torch.max(outputs, 1)\n",
    "        correct_train += (predicted == targets).sum().item()\n",
    "        total_train += targets.size(0)\n",
    "\n",
    "    train_loss = running_train_loss / len(train_loader)\n",
    "    train_accuracy = correct_train / total_train * 100\n",
    "    train_losses.append(train_loss)\n",
    "    train_accuracies.append(train_accuracy)\n",
    "\n",
    "    # Validation loop\n",
    "    model.eval()\n",
    "    running_val_loss = 0.0\n",
    "    correct_val = 0\n",
    "    total_val = 0\n",
    "    with torch.no_grad():\n",
    "        for inputs, targets in val_loader:\n",
    "            inputs, targets = inputs.to(device), targets.to(device)\n",
    "            outputs = model(inputs)\n",
    "            loss = criterion(outputs, targets)\n",
    "            running_val_loss += loss.item()\n",
    "\n",
    "            _, predicted = torch.max(outputs, 1)\n",
    "            correct_val += (predicted == targets).sum().item()\n",
    "            total_val += targets.size(0)\n",
    "\n",
    "    val_loss = running_val_loss / len(val_loader)\n",
    "    val_accuracy = correct_val / total_val * 100\n",
    "    val_losses.append(val_loss)\n",
    "    val_accuracies.append(val_accuracy)\n",
    "\n",
    "    print(f\"Epoch [{epoch + 1}/{NUM_EPOCHS}], Train Loss: {train_loss:.4f}, Train Accuracy: {train_accuracy:.2f}%, Val Loss: {val_loss:.4f}, Val Accuracy: {val_accuracy:.2f}%\")\n",
    "\n",
    "# Plot training and validation loss\n",
    "plt.figure(figsize=(10, 6))\n",
    "plt.plot(range(1, NUM_EPOCHS + 1), train_losses, label='Training Loss')\n",
    "plt.plot(range(1, NUM_EPOCHS + 1), val_losses, label='Validation Loss')\n",
    "plt.xlabel('Epoch')\n",
    "plt.ylabel('Loss')\n",
    "plt.title('Training and Validation Loss')\n",
    "plt.legend()\n",
    "plt.grid()\n",
    "plt.show()\n",
    "\n",
    "# Plot training and validation accuracy\n",
    "plt.figure(figsize=(10, 6))\n",
    "plt.plot(range(1, NUM_EPOCHS + 1), train_accuracies, label='Training Accuracy')\n",
    "plt.plot(range(1, NUM_EPOCHS + 1), val_accuracies, label='Validation Accuracy')\n",
    "plt.xlabel('Epoch')\n",
    "plt.ylabel('Accuracy (%)')\n",
    "plt.title('Training and Validation Accuracy')\n",
    "plt.legend()\n",
    "plt.grid()\n",
    "plt.show()\n",
    "\n",
    "# Evaluation on test data\n",
    "all_preds = []\n",
    "all_targets = []\n",
    "model.eval()\n",
    "with torch.no_grad():\n",
    "    for inputs, targets in test_loader:\n",
    "        inputs, targets = inputs.to(device), targets.to(device)\n",
    "        outputs = model(inputs)\n",
    "        _, predicted = torch.max(outputs, 1)\n",
    "        all_preds.extend(predicted.cpu().numpy())\n",
    "        all_targets.extend(targets.cpu().numpy())\n",
    "\n",
    "target_names = [\"Class 0\", \"Class 1\"]\n",
    "report = classification_report(all_targets, all_preds, target_names=target_names)\n",
    "print(report)\n",
    "\n",
    "# 生成混淆矩阵\n",
    "cm = confusion_matrix(all_targets, all_preds)\n",
    "\n",
    "# 绘制混淆矩阵热图\n",
    "plt.figure(figsize=(6, 4))\n",
    "sns.heatmap(cm, annot=True, fmt='d', cmap='Blues', xticklabels=target_names, yticklabels=target_names)\n",
    "plt.xlabel('Predicted Labels')\n",
    "plt.ylabel('True Labels')\n",
    "plt.title('Confusion Matrix')\n",
    "plt.show()\n",
    "\n"
   ]
  },
  {
   "cell_type": "code",
   "execution_count": 76,
   "metadata": {},
   "outputs": [
    {
     "name": "stdout",
     "output_type": "stream",
     "text": [
      "文件中的键名及其对应维度：\n",
      "train_images: (6988, 28, 28)\n",
      "train_labels: (6988,)\n",
      "test_images: (624, 28, 28)\n",
      "test_labels: (624,)\n",
      "val_images: (524, 28, 28)\n",
      "val_labels: (524,)\n",
      "Label 的前 10 个值：\n",
      "[0 0 0 1 0 0 0 1 0 0]\n",
      "文件中的所有键名：\n",
      "['train_images', 'train_labels', 'test_images', 'test_labels', 'val_images', 'val_labels']\n"
     ]
    }
   ],
   "source": [
    "import numpy as np\n",
    "DATA_ROOT = os.path.join('.','augmented')\n",
    "npz_path=os.path.join(DATA_ROOT, 'Merge_aug_data.npz')\n",
    "# 加载 npz 文件\n",
    "file_path = npz_path # 替换为你的 .npz 文件路径\n",
    "data = np.load(file_path)\n",
    "\n",
    "# 输出键名和数据维度\n",
    "print(\"文件中的键名及其对应维度：\")\n",
    "for key in data.keys():\n",
    "    print(f\"{key}: {data[key].shape}\")\n",
    "\n",
    "# 加载 npz 文件\n",
    "\n",
    "# 检查是否存在 'label' 键\n",
    "if 'train_labels' in data:\n",
    "    labels = data['train_labels']  # 提取 label 数据\n",
    "    print(\"Label 的前 10 个值：\")\n",
    "    print(labels[:10])  # 输出前 10 个值\n",
    "\n",
    "print(\"文件中的所有键名：\")\n",
    "print(list(data.keys()))\n"
   ]
  },
  {
   "cell_type": "code",
   "execution_count": 80,
   "metadata": {},
   "outputs": [
    {
     "name": "stdout",
     "output_type": "stream",
     "text": [
      "已将标签维度调整为二维数组，保存为 .\\augmented\\Merge_aug_data1.npz\n"
     ]
    }
   ],
   "source": [
    "import numpy as np\n",
    "\n",
    "# 加载 npz 文件\n",
    "file_path = npz_path  # 替换为图二对应的文件路径\n",
    "data = np.load(file_path)\n",
    "\n",
    "# 创建新的字典，调整标签维度\n",
    "new_data = {}\n",
    "for key in data.keys():\n",
    "    if 'labels' in key:  # 对包含 'labels' 的键调整维度\n",
    "        new_data[key] = data[key].reshape(-1, 1)  # 转为二维数组\n",
    "    else:\n",
    "        new_data[key] = data[key]  # 保持其他数据不变\n",
    "\n",
    "# 保存新的 npz 文件\n",
    "new_file_path =os.path.join(DATA_ROOT, 'Merge_aug_data1.npz')  # 新文件路径\n",
    "np.savez(new_file_path, **new_data)\n",
    "\n",
    "print(f\"已将标签维度调整为二维数组，保存为 {new_file_path}\")\n"
   ]
  },
  {
   "cell_type": "code",
   "execution_count": 81,
   "metadata": {},
   "outputs": [
    {
     "name": "stderr",
     "output_type": "stream",
     "text": [
      "Training Epoch 1: 100%|██████████| 28/28 [00:05<00:00,  5.13it/s]\n"
     ]
    },
    {
     "name": "stdout",
     "output_type": "stream",
     "text": [
      "Epoch [1/30], Train Loss: 0.3737, Train Accuracy: 81.48%, Val Loss: 0.8466, Val Accuracy: 74.24%\n"
     ]
    },
    {
     "name": "stderr",
     "output_type": "stream",
     "text": [
      "Training Epoch 2: 100%|██████████| 28/28 [00:05<00:00,  5.35it/s]\n"
     ]
    },
    {
     "name": "stdout",
     "output_type": "stream",
     "text": [
      "Epoch [2/30], Train Loss: 0.1220, Train Accuracy: 95.25%, Val Loss: 0.1800, Val Accuracy: 88.55%\n"
     ]
    },
    {
     "name": "stderr",
     "output_type": "stream",
     "text": [
      "Training Epoch 3: 100%|██████████| 28/28 [00:05<00:00,  5.28it/s]\n"
     ]
    },
    {
     "name": "stdout",
     "output_type": "stream",
     "text": [
      "Epoch [3/30], Train Loss: 0.0780, Train Accuracy: 97.34%, Val Loss: 0.0740, Val Accuracy: 95.23%\n"
     ]
    },
    {
     "name": "stderr",
     "output_type": "stream",
     "text": [
      "Training Epoch 4: 100%|██████████| 28/28 [00:05<00:00,  5.23it/s]\n"
     ]
    },
    {
     "name": "stdout",
     "output_type": "stream",
     "text": [
      "Epoch [4/30], Train Loss: 0.0519, Train Accuracy: 98.50%, Val Loss: 0.0705, Val Accuracy: 95.42%\n"
     ]
    },
    {
     "name": "stderr",
     "output_type": "stream",
     "text": [
      "Training Epoch 5: 100%|██████████| 28/28 [00:05<00:00,  5.07it/s]\n"
     ]
    },
    {
     "name": "stdout",
     "output_type": "stream",
     "text": [
      "Epoch [5/30], Train Loss: 0.0340, Train Accuracy: 99.27%, Val Loss: 0.0597, Val Accuracy: 95.80%\n"
     ]
    },
    {
     "name": "stderr",
     "output_type": "stream",
     "text": [
      "Training Epoch 6: 100%|██████████| 28/28 [00:05<00:00,  5.05it/s]\n"
     ]
    },
    {
     "name": "stdout",
     "output_type": "stream",
     "text": [
      "Epoch [6/30], Train Loss: 0.0218, Train Accuracy: 99.79%, Val Loss: 0.0571, Val Accuracy: 95.80%\n"
     ]
    },
    {
     "name": "stderr",
     "output_type": "stream",
     "text": [
      "Training Epoch 7: 100%|██████████| 28/28 [00:05<00:00,  5.14it/s]\n"
     ]
    },
    {
     "name": "stdout",
     "output_type": "stream",
     "text": [
      "Epoch [7/30], Train Loss: 0.0132, Train Accuracy: 99.94%, Val Loss: 0.0560, Val Accuracy: 96.18%\n"
     ]
    },
    {
     "name": "stderr",
     "output_type": "stream",
     "text": [
      "Training Epoch 8: 100%|██████████| 28/28 [00:05<00:00,  5.29it/s]\n"
     ]
    },
    {
     "name": "stdout",
     "output_type": "stream",
     "text": [
      "Epoch [8/30], Train Loss: 0.0099, Train Accuracy: 99.99%, Val Loss: 0.0541, Val Accuracy: 96.95%\n"
     ]
    },
    {
     "name": "stderr",
     "output_type": "stream",
     "text": [
      "Training Epoch 9: 100%|██████████| 28/28 [00:05<00:00,  5.25it/s]\n"
     ]
    },
    {
     "name": "stdout",
     "output_type": "stream",
     "text": [
      "Epoch [9/30], Train Loss: 0.0083, Train Accuracy: 99.97%, Val Loss: 0.0552, Val Accuracy: 96.37%\n"
     ]
    },
    {
     "name": "stderr",
     "output_type": "stream",
     "text": [
      "Training Epoch 10: 100%|██████████| 28/28 [00:05<00:00,  5.25it/s]\n"
     ]
    },
    {
     "name": "stdout",
     "output_type": "stream",
     "text": [
      "Epoch [10/30], Train Loss: 0.0058, Train Accuracy: 100.00%, Val Loss: 0.0576, Val Accuracy: 96.37%\n"
     ]
    },
    {
     "name": "stderr",
     "output_type": "stream",
     "text": [
      "Training Epoch 11: 100%|██████████| 28/28 [00:05<00:00,  5.34it/s]\n"
     ]
    },
    {
     "name": "stdout",
     "output_type": "stream",
     "text": [
      "Epoch [11/30], Train Loss: 0.0043, Train Accuracy: 100.00%, Val Loss: 0.0577, Val Accuracy: 96.18%\n"
     ]
    },
    {
     "name": "stderr",
     "output_type": "stream",
     "text": [
      "Training Epoch 12: 100%|██████████| 28/28 [00:05<00:00,  5.24it/s]\n"
     ]
    },
    {
     "name": "stdout",
     "output_type": "stream",
     "text": [
      "Epoch [12/30], Train Loss: 0.0039, Train Accuracy: 100.00%, Val Loss: 0.0552, Val Accuracy: 96.56%\n"
     ]
    },
    {
     "name": "stderr",
     "output_type": "stream",
     "text": [
      "Training Epoch 13: 100%|██████████| 28/28 [00:05<00:00,  5.22it/s]\n"
     ]
    },
    {
     "name": "stdout",
     "output_type": "stream",
     "text": [
      "Epoch [13/30], Train Loss: 0.0027, Train Accuracy: 100.00%, Val Loss: 0.0579, Val Accuracy: 95.80%\n"
     ]
    },
    {
     "name": "stderr",
     "output_type": "stream",
     "text": [
      "Training Epoch 14: 100%|██████████| 28/28 [00:05<00:00,  5.13it/s]\n"
     ]
    },
    {
     "name": "stdout",
     "output_type": "stream",
     "text": [
      "Epoch [14/30], Train Loss: 0.0023, Train Accuracy: 100.00%, Val Loss: 0.0618, Val Accuracy: 95.99%\n"
     ]
    },
    {
     "name": "stderr",
     "output_type": "stream",
     "text": [
      "Training Epoch 15: 100%|██████████| 28/28 [00:05<00:00,  5.05it/s]\n"
     ]
    },
    {
     "name": "stdout",
     "output_type": "stream",
     "text": [
      "Epoch [15/30], Train Loss: 0.0019, Train Accuracy: 100.00%, Val Loss: 0.0580, Val Accuracy: 95.80%\n"
     ]
    },
    {
     "name": "stderr",
     "output_type": "stream",
     "text": [
      "Training Epoch 16: 100%|██████████| 28/28 [00:05<00:00,  4.97it/s]\n"
     ]
    },
    {
     "name": "stdout",
     "output_type": "stream",
     "text": [
      "Epoch [16/30], Train Loss: 0.0018, Train Accuracy: 100.00%, Val Loss: 0.0571, Val Accuracy: 96.37%\n"
     ]
    },
    {
     "name": "stderr",
     "output_type": "stream",
     "text": [
      "Training Epoch 17: 100%|██████████| 28/28 [00:05<00:00,  4.84it/s]\n"
     ]
    },
    {
     "name": "stdout",
     "output_type": "stream",
     "text": [
      "Epoch [17/30], Train Loss: 0.0018, Train Accuracy: 100.00%, Val Loss: 0.0582, Val Accuracy: 95.99%\n"
     ]
    },
    {
     "name": "stderr",
     "output_type": "stream",
     "text": [
      "Training Epoch 18: 100%|██████████| 28/28 [00:05<00:00,  5.04it/s]\n"
     ]
    },
    {
     "name": "stdout",
     "output_type": "stream",
     "text": [
      "Epoch [18/30], Train Loss: 0.0016, Train Accuracy: 100.00%, Val Loss: 0.0571, Val Accuracy: 96.18%\n"
     ]
    },
    {
     "name": "stderr",
     "output_type": "stream",
     "text": [
      "Training Epoch 19: 100%|██████████| 28/28 [00:06<00:00,  4.61it/s]\n"
     ]
    },
    {
     "name": "stdout",
     "output_type": "stream",
     "text": [
      "Epoch [19/30], Train Loss: 0.0013, Train Accuracy: 100.00%, Val Loss: 0.0576, Val Accuracy: 96.37%\n"
     ]
    },
    {
     "name": "stderr",
     "output_type": "stream",
     "text": [
      "Training Epoch 20: 100%|██████████| 28/28 [00:05<00:00,  5.03it/s]\n"
     ]
    },
    {
     "name": "stdout",
     "output_type": "stream",
     "text": [
      "Epoch [20/30], Train Loss: 0.0012, Train Accuracy: 100.00%, Val Loss: 0.0579, Val Accuracy: 96.37%\n"
     ]
    },
    {
     "name": "stderr",
     "output_type": "stream",
     "text": [
      "Training Epoch 21: 100%|██████████| 28/28 [00:05<00:00,  5.05it/s]\n"
     ]
    },
    {
     "name": "stdout",
     "output_type": "stream",
     "text": [
      "Epoch [21/30], Train Loss: 0.0012, Train Accuracy: 100.00%, Val Loss: 0.0572, Val Accuracy: 96.18%\n"
     ]
    },
    {
     "name": "stderr",
     "output_type": "stream",
     "text": [
      "Training Epoch 22: 100%|██████████| 28/28 [00:05<00:00,  5.02it/s]\n"
     ]
    },
    {
     "name": "stdout",
     "output_type": "stream",
     "text": [
      "Epoch [22/30], Train Loss: 0.0012, Train Accuracy: 100.00%, Val Loss: 0.0589, Val Accuracy: 96.37%\n"
     ]
    },
    {
     "name": "stderr",
     "output_type": "stream",
     "text": [
      "Training Epoch 23: 100%|██████████| 28/28 [00:05<00:00,  4.88it/s]\n"
     ]
    },
    {
     "name": "stdout",
     "output_type": "stream",
     "text": [
      "Epoch [23/30], Train Loss: 0.0011, Train Accuracy: 100.00%, Val Loss: 0.0598, Val Accuracy: 96.18%\n"
     ]
    },
    {
     "name": "stderr",
     "output_type": "stream",
     "text": [
      "Training Epoch 24: 100%|██████████| 28/28 [00:05<00:00,  4.85it/s]\n"
     ]
    },
    {
     "name": "stdout",
     "output_type": "stream",
     "text": [
      "Epoch [24/30], Train Loss: 0.0011, Train Accuracy: 100.00%, Val Loss: 0.0606, Val Accuracy: 96.37%\n"
     ]
    },
    {
     "name": "stderr",
     "output_type": "stream",
     "text": [
      "Training Epoch 25: 100%|██████████| 28/28 [00:05<00:00,  5.00it/s]\n"
     ]
    },
    {
     "name": "stdout",
     "output_type": "stream",
     "text": [
      "Epoch [25/30], Train Loss: 0.0009, Train Accuracy: 100.00%, Val Loss: 0.0580, Val Accuracy: 96.18%\n"
     ]
    },
    {
     "name": "stderr",
     "output_type": "stream",
     "text": [
      "Training Epoch 26: 100%|██████████| 28/28 [00:05<00:00,  5.28it/s]\n"
     ]
    },
    {
     "name": "stdout",
     "output_type": "stream",
     "text": [
      "Epoch [26/30], Train Loss: 0.0008, Train Accuracy: 100.00%, Val Loss: 0.0582, Val Accuracy: 96.37%\n"
     ]
    },
    {
     "name": "stderr",
     "output_type": "stream",
     "text": [
      "Training Epoch 27: 100%|██████████| 28/28 [00:05<00:00,  5.22it/s]\n"
     ]
    },
    {
     "name": "stdout",
     "output_type": "stream",
     "text": [
      "Epoch [27/30], Train Loss: 0.0007, Train Accuracy: 100.00%, Val Loss: 0.0590, Val Accuracy: 96.37%\n"
     ]
    },
    {
     "name": "stderr",
     "output_type": "stream",
     "text": [
      "Training Epoch 28: 100%|██████████| 28/28 [00:05<00:00,  5.11it/s]\n"
     ]
    },
    {
     "name": "stdout",
     "output_type": "stream",
     "text": [
      "Epoch [28/30], Train Loss: 0.0009, Train Accuracy: 100.00%, Val Loss: 0.0574, Val Accuracy: 96.37%\n"
     ]
    },
    {
     "name": "stderr",
     "output_type": "stream",
     "text": [
      "Training Epoch 29: 100%|██████████| 28/28 [00:05<00:00,  5.06it/s]\n"
     ]
    },
    {
     "name": "stdout",
     "output_type": "stream",
     "text": [
      "Epoch [29/30], Train Loss: 0.0006, Train Accuracy: 100.00%, Val Loss: 0.0606, Val Accuracy: 96.37%\n"
     ]
    },
    {
     "name": "stderr",
     "output_type": "stream",
     "text": [
      "Training Epoch 30: 100%|██████████| 28/28 [00:05<00:00,  5.12it/s]\n"
     ]
    },
    {
     "name": "stdout",
     "output_type": "stream",
     "text": [
      "Epoch [30/30], Train Loss: 0.0006, Train Accuracy: 100.00%, Val Loss: 0.0606, Val Accuracy: 96.37%\n"
     ]
    },
    {
     "data": {
      "image/png": "[encoded data removed]",
      "text/plain": [
       "<Figure size 1000x600 with 1 Axes>"
      ]
     },
     "metadata": {},
     "output_type": "display_data"
    },
    {
     "data": {
      "image/png": "[encoded data removed]",
      "text/plain": [
       "<Figure size 1000x600 with 1 Axes>"
      ]
     },
     "metadata": {},
     "output_type": "display_data"
    },
    {
     "name": "stdout",
     "output_type": "stream",
     "text": [
      "              precision    recall  f1-score   support\n",
      "\n",
      "     Class 0       0.97      0.62      0.76       234\n",
      "     Class 1       0.81      0.99      0.89       390\n",
      "\n",
      "    accuracy                           0.85       624\n",
      "   macro avg       0.89      0.81      0.83       624\n",
      "weighted avg       0.87      0.85      0.84       624\n",
      "\n"
     ]
    },
    {
     "data": {
      "image/png": "[encoded data removed]",
      "text/plain": [
       "<Figure size 600x400 with 2 Axes>"
      ]
     },
     "metadata": {},
     "output_type": "display_data"
    }
   ],
   "source": [
    "#augmented resnet18\n",
    "import torch\n",
    "import torch.nn as nn\n",
    "import torch.optim as optim\n",
    "from sklearn.metrics import classification_report\n",
    "from tqdm import tqdm\n",
    "import matplotlib.pyplot as plt\n",
    "import os\n",
    "import numpy as np\n",
    "import seaborn as sns\n",
    "from sklearn.metrics import confusion_matrix\n",
    "DATA_ROOT = os.path.join('.', 'augmented')\n",
    "train_dataset = CustomPneumoniaMNIST(\n",
    "    npz_path=os.path.join(DATA_ROOT, 'Merge_aug_data1.npz'),\n",
    "    split='train',\n",
    "    transform=data_transform\n",
    ")\n",
    "train_loader = torch.utils.data.DataLoader(dataset=train_dataset, batch_size=BATCH_SIZE, shuffle=True)\n",
    "device = torch.device(\"cuda\" if torch.cuda.is_available() else \"cpu\")\n",
    "\n",
    "model = ResNet18(in_channels=n_channels, num_classes=n_classes).to(device)\n",
    "optimizer = optim.SGD(model.parameters(), lr=lr, momentum=0.9)\n",
    "criterion = nn.CrossEntropyLoss()\n",
    "train_losses = []\n",
    "val_losses = []\n",
    "train_accuracies = []\n",
    "val_accuracies = []\n",
    "seed = 42\n",
    "torch.manual_seed(seed)\n",
    "# Training loop\n",
    "for epoch in range(NUM_EPOCHS):\n",
    "    model.train()\n",
    "    running_train_loss = 0.0\n",
    "    correct_train = 0\n",
    "    total_train = 0\n",
    "    for inputs, targets in tqdm(train_loader, desc=f\"Training Epoch {epoch + 1}\"):\n",
    "        inputs, targets = inputs.to(device), targets.to(device)\n",
    "        optimizer.zero_grad()\n",
    "        outputs = model(inputs)\n",
    "        loss = criterion(outputs, targets)\n",
    "        loss.backward()\n",
    "        optimizer.step()\n",
    "        running_train_loss += loss.item()\n",
    "\n",
    "        _, predicted = torch.max(outputs, 1)\n",
    "        correct_train += (predicted == targets).sum().item()\n",
    "        total_train += targets.size(0)\n",
    "\n",
    "    train_loss = running_train_loss / len(train_loader)\n",
    "    train_accuracy = correct_train / total_train * 100\n",
    "    train_losses.append(train_loss)\n",
    "    train_accuracies.append(train_accuracy)\n",
    "\n",
    "    # Validation loop\n",
    "    model.eval()\n",
    "    running_val_loss = 0.0\n",
    "    correct_val = 0\n",
    "    total_val = 0\n",
    "    with torch.no_grad():\n",
    "        for inputs, targets in val_loader:\n",
    "            inputs, targets = inputs.to(device), targets.to(device)\n",
    "            outputs = model(inputs)\n",
    "            loss = criterion(outputs, targets)\n",
    "            running_val_loss += loss.item()\n",
    "\n",
    "            _, predicted = torch.max(outputs, 1)\n",
    "            correct_val += (predicted == targets).sum().item()\n",
    "            total_val += targets.size(0)\n",
    "\n",
    "    val_loss = running_val_loss / len(val_loader)\n",
    "    val_accuracy = correct_val / total_val * 100\n",
    "    val_losses.append(val_loss)\n",
    "    val_accuracies.append(val_accuracy)\n",
    "\n",
    "    print(f\"Epoch [{epoch + 1}/{NUM_EPOCHS}], Train Loss: {train_loss:.4f}, Train Accuracy: {train_accuracy:.2f}%, Val Loss: {val_loss:.4f}, Val Accuracy: {val_accuracy:.2f}%\")\n",
    "\n",
    "# Plot training and validation loss\n",
    "plt.figure(figsize=(10, 6))\n",
    "plt.plot(range(1, NUM_EPOCHS + 1), train_losses, label='Training Loss')\n",
    "plt.plot(range(1, NUM_EPOCHS + 1), val_losses, label='Validation Loss')\n",
    "plt.xlabel('Epoch')\n",
    "plt.ylabel('Loss')\n",
    "plt.title('Training and Validation Loss')\n",
    "plt.legend()\n",
    "plt.grid()\n",
    "plt.show()\n",
    "\n",
    "# Plot training and validation accuracy\n",
    "plt.figure(figsize=(10, 6))\n",
    "plt.plot(range(1, NUM_EPOCHS + 1), train_accuracies, label='Training Accuracy')\n",
    "plt.plot(range(1, NUM_EPOCHS + 1), val_accuracies, label='Validation Accuracy')\n",
    "plt.xlabel('Epoch')\n",
    "plt.ylabel('Accuracy (%)')\n",
    "plt.title('Training and Validation Accuracy')\n",
    "plt.legend()\n",
    "plt.grid()\n",
    "plt.show()\n",
    "\n",
    "# Evaluation on test data\n",
    "all_preds = []\n",
    "all_targets = []\n",
    "model.eval()\n",
    "with torch.no_grad():\n",
    "    for inputs, targets in test_loader:\n",
    "        inputs, targets = inputs.to(device), targets.to(device)\n",
    "        outputs = model(inputs)\n",
    "        _, predicted = torch.max(outputs, 1)\n",
    "        all_preds.extend(predicted.cpu().numpy())\n",
    "        all_targets.extend(targets.cpu().numpy())\n",
    "\n",
    "target_names = [\"Class 0\", \"Class 1\"]\n",
    "report = classification_report(all_targets, all_preds, target_names=target_names)\n",
    "print(report)\n",
    "\n",
    "# 生成混淆矩阵\n",
    "cm = confusion_matrix(all_targets, all_preds)\n",
    "\n",
    "# 绘制混淆矩阵热图\n",
    "plt.figure(figsize=(6, 4))\n",
    "sns.heatmap(cm, annot=True, fmt='d', cmap='Blues', xticklabels=target_names, yticklabels=target_names)\n",
    "plt.xlabel('Predicted Labels')\n",
    "plt.ylabel('True Labels')\n",
    "plt.title('Confusion Matrix')\n",
    "plt.show()\n",
    "\n"
   ]
  },
  {
   "cell_type": "code",
   "execution_count": 5,
   "metadata": {},
   "outputs": [
    {
     "name": "stdout",
     "output_type": "stream",
     "text": [
      "Images shape: torch.Size([6988, 1, 28, 28])\n",
      "Labels shape: torch.Size([6988])\n"
     ]
    }
   ],
   "source": [
    "generated_npz_path = \"train_data_acgan(o).npz\"\n",
    "augmented_train_data = np.load(generated_npz_path)\n",
    "\n",
    "# Access images and labels\n",
    "loaded_imgs = torch.tensor(augmented_train_data['images'])\n",
    "loaded_labels = torch.tensor(augmented_train_data['labels'])\n",
    "\n",
    "\n",
    "print(f\"Images shape: {loaded_imgs.shape}\")\n",
    "print(f\"Labels shape: {loaded_labels.shape}\")\n",
    "\n",
    "train_dataset = torch.utils.data.TensorDataset(loaded_imgs.detach(), loaded_labels.detach().long())"
   ]
  },
  {
   "cell_type": "code",
   "execution_count": 6,
   "metadata": {},
   "outputs": [
    {
     "name": "stdout",
     "output_type": "stream",
     "text": [
      "<torch.utils.data.dataset.TensorDataset object at 0x000002028C543DA0>\n"
     ]
    },
    {
     "name": "stderr",
     "output_type": "stream",
     "text": [
      "Training Epoch 1: 100%|██████████| 28/28 [00:03<00:00,  8.30it/s]\n"
     ]
    },
    {
     "name": "stdout",
     "output_type": "stream",
     "text": [
      "Epoch [1/30], Train Loss: 0.4407, Train Accuracy: 78.78%, Val Loss: 0.7643, Val Accuracy: 74.24%\n"
     ]
    },
    {
     "name": "stderr",
     "output_type": "stream",
     "text": [
      "Training Epoch 2: 100%|██████████| 28/28 [00:03<00:00,  8.92it/s]\n"
     ]
    },
    {
     "name": "stdout",
     "output_type": "stream",
     "text": [
      "Epoch [2/30], Train Loss: 0.1506, Train Accuracy: 94.99%, Val Loss: 0.1427, Val Accuracy: 94.08%\n"
     ]
    },
    {
     "name": "stderr",
     "output_type": "stream",
     "text": [
      "Training Epoch 3: 100%|██████████| 28/28 [00:03<00:00,  8.94it/s]\n"
     ]
    },
    {
     "name": "stdout",
     "output_type": "stream",
     "text": [
      "Epoch [3/30], Train Loss: 0.0758, Train Accuracy: 97.41%, Val Loss: 0.1429, Val Accuracy: 95.61%\n"
     ]
    },
    {
     "name": "stderr",
     "output_type": "stream",
     "text": [
      "Training Epoch 4: 100%|██████████| 28/28 [00:03<00:00,  8.96it/s]\n"
     ]
    },
    {
     "name": "stdout",
     "output_type": "stream",
     "text": [
      "Epoch [4/30], Train Loss: 0.0501, Train Accuracy: 98.38%, Val Loss: 0.1093, Val Accuracy: 96.56%\n"
     ]
    },
    {
     "name": "stderr",
     "output_type": "stream",
     "text": [
      "Training Epoch 5: 100%|██████████| 28/28 [00:03<00:00,  8.92it/s]\n"
     ]
    },
    {
     "name": "stdout",
     "output_type": "stream",
     "text": [
      "Epoch [5/30], Train Loss: 0.0323, Train Accuracy: 99.23%, Val Loss: 0.1141, Val Accuracy: 96.95%\n"
     ]
    },
    {
     "name": "stderr",
     "output_type": "stream",
     "text": [
      "Training Epoch 6: 100%|██████████| 28/28 [00:03<00:00,  8.96it/s]\n"
     ]
    },
    {
     "name": "stdout",
     "output_type": "stream",
     "text": [
      "Epoch [6/30], Train Loss: 0.0216, Train Accuracy: 99.66%, Val Loss: 0.0931, Val Accuracy: 96.37%\n"
     ]
    },
    {
     "name": "stderr",
     "output_type": "stream",
     "text": [
      "Training Epoch 7: 100%|██████████| 28/28 [00:03<00:00,  8.97it/s]\n"
     ]
    },
    {
     "name": "stdout",
     "output_type": "stream",
     "text": [
      "Epoch [7/30], Train Loss: 0.0130, Train Accuracy: 99.93%, Val Loss: 0.1287, Val Accuracy: 96.76%\n"
     ]
    },
    {
     "name": "stderr",
     "output_type": "stream",
     "text": [
      "Training Epoch 8: 100%|██████████| 28/28 [00:03<00:00,  8.96it/s]\n"
     ]
    },
    {
     "name": "stdout",
     "output_type": "stream",
     "text": [
      "Epoch [8/30], Train Loss: 0.0091, Train Accuracy: 99.97%, Val Loss: 0.1167, Val Accuracy: 97.52%\n"
     ]
    },
    {
     "name": "stderr",
     "output_type": "stream",
     "text": [
      "Training Epoch 9: 100%|██████████| 28/28 [00:03<00:00,  8.99it/s]\n"
     ]
    },
    {
     "name": "stdout",
     "output_type": "stream",
     "text": [
      "Epoch [9/30], Train Loss: 0.0068, Train Accuracy: 99.99%, Val Loss: 0.0718, Val Accuracy: 97.33%\n"
     ]
    },
    {
     "name": "stderr",
     "output_type": "stream",
     "text": [
      "Training Epoch 10: 100%|██████████| 28/28 [00:03<00:00,  8.95it/s]\n"
     ]
    },
    {
     "name": "stdout",
     "output_type": "stream",
     "text": [
      "Epoch [10/30], Train Loss: 0.0048, Train Accuracy: 100.00%, Val Loss: 0.0744, Val Accuracy: 96.95%\n"
     ]
    },
    {
     "name": "stderr",
     "output_type": "stream",
     "text": [
      "Training Epoch 11: 100%|██████████| 28/28 [00:03<00:00,  8.94it/s]\n"
     ]
    },
    {
     "name": "stdout",
     "output_type": "stream",
     "text": [
      "Epoch [11/30], Train Loss: 0.0039, Train Accuracy: 100.00%, Val Loss: 0.0794, Val Accuracy: 96.95%\n"
     ]
    },
    {
     "name": "stderr",
     "output_type": "stream",
     "text": [
      "Training Epoch 12: 100%|██████████| 28/28 [00:03<00:00,  8.95it/s]\n"
     ]
    },
    {
     "name": "stdout",
     "output_type": "stream",
     "text": [
      "Epoch [12/30], Train Loss: 0.0032, Train Accuracy: 100.00%, Val Loss: 0.0773, Val Accuracy: 97.14%\n"
     ]
    },
    {
     "name": "stderr",
     "output_type": "stream",
     "text": [
      "Training Epoch 13: 100%|██████████| 28/28 [00:03<00:00,  8.94it/s]\n"
     ]
    },
    {
     "name": "stdout",
     "output_type": "stream",
     "text": [
      "Epoch [13/30], Train Loss: 0.0027, Train Accuracy: 100.00%, Val Loss: 0.0898, Val Accuracy: 97.14%\n"
     ]
    },
    {
     "name": "stderr",
     "output_type": "stream",
     "text": [
      "Training Epoch 14: 100%|██████████| 28/28 [00:03<00:00,  8.12it/s]\n"
     ]
    },
    {
     "name": "stdout",
     "output_type": "stream",
     "text": [
      "Epoch [14/30], Train Loss: 0.0024, Train Accuracy: 100.00%, Val Loss: 0.0766, Val Accuracy: 97.14%\n"
     ]
    },
    {
     "name": "stderr",
     "output_type": "stream",
     "text": [
      "Training Epoch 15: 100%|██████████| 28/28 [00:03<00:00,  8.97it/s]\n"
     ]
    },
    {
     "name": "stdout",
     "output_type": "stream",
     "text": [
      "Epoch [15/30], Train Loss: 0.0021, Train Accuracy: 100.00%, Val Loss: 0.0766, Val Accuracy: 97.14%\n"
     ]
    },
    {
     "name": "stderr",
     "output_type": "stream",
     "text": [
      "Training Epoch 16: 100%|██████████| 28/28 [00:03<00:00,  8.95it/s]\n"
     ]
    },
    {
     "name": "stdout",
     "output_type": "stream",
     "text": [
      "Epoch [16/30], Train Loss: 0.0018, Train Accuracy: 100.00%, Val Loss: 0.0768, Val Accuracy: 97.14%\n"
     ]
    },
    {
     "name": "stderr",
     "output_type": "stream",
     "text": [
      "Training Epoch 17: 100%|██████████| 28/28 [00:03<00:00,  8.93it/s]\n"
     ]
    },
    {
     "name": "stdout",
     "output_type": "stream",
     "text": [
      "Epoch [17/30], Train Loss: 0.0017, Train Accuracy: 100.00%, Val Loss: 0.0757, Val Accuracy: 97.14%\n"
     ]
    },
    {
     "name": "stderr",
     "output_type": "stream",
     "text": [
      "Training Epoch 18: 100%|██████████| 28/28 [00:03<00:00,  8.99it/s]\n"
     ]
    },
    {
     "name": "stdout",
     "output_type": "stream",
     "text": [
      "Epoch [18/30], Train Loss: 0.0015, Train Accuracy: 100.00%, Val Loss: 0.0717, Val Accuracy: 96.95%\n"
     ]
    },
    {
     "name": "stderr",
     "output_type": "stream",
     "text": [
      "Training Epoch 19: 100%|██████████| 28/28 [00:03<00:00,  8.94it/s]\n"
     ]
    },
    {
     "name": "stdout",
     "output_type": "stream",
     "text": [
      "Epoch [19/30], Train Loss: 0.0014, Train Accuracy: 100.00%, Val Loss: 0.0811, Val Accuracy: 97.14%\n"
     ]
    },
    {
     "name": "stderr",
     "output_type": "stream",
     "text": [
      "Training Epoch 20: 100%|██████████| 28/28 [00:03<00:00,  8.95it/s]\n"
     ]
    },
    {
     "name": "stdout",
     "output_type": "stream",
     "text": [
      "Epoch [20/30], Train Loss: 0.0014, Train Accuracy: 100.00%, Val Loss: 0.0708, Val Accuracy: 96.95%\n"
     ]
    },
    {
     "name": "stderr",
     "output_type": "stream",
     "text": [
      "Training Epoch 21: 100%|██████████| 28/28 [00:03<00:00,  8.99it/s]\n"
     ]
    },
    {
     "name": "stdout",
     "output_type": "stream",
     "text": [
      "Epoch [21/30], Train Loss: 0.0013, Train Accuracy: 100.00%, Val Loss: 0.0744, Val Accuracy: 97.14%\n"
     ]
    },
    {
     "name": "stderr",
     "output_type": "stream",
     "text": [
      "Training Epoch 22: 100%|██████████| 28/28 [00:03<00:00,  8.94it/s]\n"
     ]
    },
    {
     "name": "stdout",
     "output_type": "stream",
     "text": [
      "Epoch [22/30], Train Loss: 0.0010, Train Accuracy: 100.00%, Val Loss: 0.0823, Val Accuracy: 97.14%\n"
     ]
    },
    {
     "name": "stderr",
     "output_type": "stream",
     "text": [
      "Training Epoch 23: 100%|██████████| 28/28 [00:03<00:00,  8.94it/s]\n"
     ]
    },
    {
     "name": "stdout",
     "output_type": "stream",
     "text": [
      "Epoch [23/30], Train Loss: 0.0010, Train Accuracy: 100.00%, Val Loss: 0.0743, Val Accuracy: 96.95%\n"
     ]
    },
    {
     "name": "stderr",
     "output_type": "stream",
     "text": [
      "Training Epoch 24: 100%|██████████| 28/28 [00:03<00:00,  8.88it/s]\n"
     ]
    },
    {
     "name": "stdout",
     "output_type": "stream",
     "text": [
      "Epoch [24/30], Train Loss: 0.0008, Train Accuracy: 100.00%, Val Loss: 0.0755, Val Accuracy: 96.95%\n"
     ]
    },
    {
     "name": "stderr",
     "output_type": "stream",
     "text": [
      "Training Epoch 25: 100%|██████████| 28/28 [00:03<00:00,  8.96it/s]\n"
     ]
    },
    {
     "name": "stdout",
     "output_type": "stream",
     "text": [
      "Epoch [25/30], Train Loss: 0.0008, Train Accuracy: 100.00%, Val Loss: 0.0730, Val Accuracy: 96.95%\n"
     ]
    },
    {
     "name": "stderr",
     "output_type": "stream",
     "text": [
      "Training Epoch 26: 100%|██████████| 28/28 [00:03<00:00,  8.94it/s]\n"
     ]
    },
    {
     "name": "stdout",
     "output_type": "stream",
     "text": [
      "Epoch [26/30], Train Loss: 0.0008, Train Accuracy: 100.00%, Val Loss: 0.0766, Val Accuracy: 97.14%\n"
     ]
    },
    {
     "name": "stderr",
     "output_type": "stream",
     "text": [
      "Training Epoch 27: 100%|██████████| 28/28 [00:03<00:00,  8.93it/s]\n"
     ]
    },
    {
     "name": "stdout",
     "output_type": "stream",
     "text": [
      "Epoch [27/30], Train Loss: 0.0009, Train Accuracy: 100.00%, Val Loss: 0.0696, Val Accuracy: 96.95%\n"
     ]
    },
    {
     "name": "stderr",
     "output_type": "stream",
     "text": [
      "Training Epoch 28: 100%|██████████| 28/28 [00:03<00:00,  8.96it/s]\n"
     ]
    },
    {
     "name": "stdout",
     "output_type": "stream",
     "text": [
      "Epoch [28/30], Train Loss: 0.0007, Train Accuracy: 100.00%, Val Loss: 0.0725, Val Accuracy: 96.95%\n"
     ]
    },
    {
     "name": "stderr",
     "output_type": "stream",
     "text": [
      "Training Epoch 29: 100%|██████████| 28/28 [00:03<00:00,  8.97it/s]\n"
     ]
    },
    {
     "name": "stdout",
     "output_type": "stream",
     "text": [
      "Epoch [29/30], Train Loss: 0.0006, Train Accuracy: 100.00%, Val Loss: 0.0712, Val Accuracy: 96.95%\n"
     ]
    },
    {
     "name": "stderr",
     "output_type": "stream",
     "text": [
      "Training Epoch 30: 100%|██████████| 28/28 [00:03<00:00,  8.94it/s]\n"
     ]
    },
    {
     "name": "stdout",
     "output_type": "stream",
     "text": [
      "Epoch [30/30], Train Loss: 0.0006, Train Accuracy: 100.00%, Val Loss: 0.0790, Val Accuracy: 97.14%\n"
     ]
    },
    {
     "data": {
      "image/png": "[encoded data removed]",
      "text/plain": [
       "<Figure size 1000x600 with 1 Axes>"
      ]
     },
     "metadata": {},
     "output_type": "display_data"
    },
    {
     "data": {
      "image/png": "[encoded data removed]",
      "text/plain": [
       "<Figure size 1000x600 with 1 Axes>"
      ]
     },
     "metadata": {},
     "output_type": "display_data"
    },
    {
     "name": "stdout",
     "output_type": "stream",
     "text": [
      "              precision    recall  f1-score   support\n",
      "\n",
      "     Class 0       0.96      0.58      0.72       234\n",
      "     Class 1       0.80      0.99      0.88       390\n",
      "\n",
      "    accuracy                           0.83       624\n",
      "   macro avg       0.88      0.78      0.80       624\n",
      "weighted avg       0.86      0.83      0.82       624\n",
      "\n"
     ]
    },
    {
     "data": {
      "image/png": "[encoded data removed]",
      "text/plain": [
       "<Figure size 600x400 with 2 Axes>"
      ]
     },
     "metadata": {},
     "output_type": "display_data"
    }
   ],
   "source": [
    "#ACGAN resnet18\n",
    "import torch\n",
    "import torch.nn as nn\n",
    "import torch.optim as optim\n",
    "from sklearn.metrics import classification_report\n",
    "from tqdm import tqdm\n",
    "import matplotlib.pyplot as plt\n",
    "import os\n",
    "import numpy as np\n",
    "import seaborn as sns\n",
    "from sklearn.metrics import confusion_matrix\n",
    "DATA_ROOT = os.path.join('.', 'ACGAN')\n",
    "\n",
    "train_loader = torch.utils.data.DataLoader(dataset=train_dataset, batch_size=BATCH_SIZE, shuffle=True)\n",
    "device = torch.device(\"cuda\" if torch.cuda.is_available() else \"cpu\")\n",
    "\n",
    "print(train_dataset)\n",
    "model = ResNet18(in_channels=n_channels, num_classes=n_classes).to(device)\n",
    "optimizer = optim.SGD(model.parameters(), lr=lr, momentum=0.9)\n",
    "criterion = nn.CrossEntropyLoss()\n",
    "train_losses = []\n",
    "val_losses = []\n",
    "train_accuracies = []\n",
    "val_accuracies = []\n",
    "seed = 42\n",
    "torch.manual_seed(seed)\n",
    "# Training loop\n",
    "for epoch in range(NUM_EPOCHS):\n",
    "    model.train()\n",
    "    running_train_loss = 0.0\n",
    "    correct_train = 0\n",
    "    total_train = 0\n",
    "    for inputs, targets in tqdm(train_loader, desc=f\"Training Epoch {epoch + 1}\"):\n",
    "        inputs, targets = inputs.to(device), targets.to(device)\n",
    "        optimizer.zero_grad()\n",
    "        outputs = model(inputs)\n",
    "        loss = criterion(outputs, targets)\n",
    "        loss.backward()\n",
    "        optimizer.step()\n",
    "        running_train_loss += loss.item()\n",
    "\n",
    "        _, predicted = torch.max(outputs, 1)\n",
    "        correct_train += (predicted == targets).sum().item()\n",
    "        total_train += targets.size(0)\n",
    "\n",
    "    train_loss = running_train_loss / len(train_loader)\n",
    "    train_accuracy = correct_train / total_train * 100\n",
    "    train_losses.append(train_loss)\n",
    "    train_accuracies.append(train_accuracy)\n",
    "\n",
    "    # Validation loop\n",
    "    model.eval()\n",
    "    running_val_loss = 0.0\n",
    "    correct_val = 0\n",
    "    total_val = 0\n",
    "    with torch.no_grad():\n",
    "        for inputs, targets in val_loader:\n",
    "            inputs, targets = inputs.to(device), targets.to(device)\n",
    "            outputs = model(inputs)\n",
    "            loss = criterion(outputs, targets)\n",
    "            running_val_loss += loss.item()\n",
    "\n",
    "            _, predicted = torch.max(outputs, 1)\n",
    "            correct_val += (predicted == targets).sum().item()\n",
    "            total_val += targets.size(0)\n",
    "\n",
    "    val_loss = running_val_loss / len(val_loader)\n",
    "    val_accuracy = correct_val / total_val * 100\n",
    "    val_losses.append(val_loss)\n",
    "    val_accuracies.append(val_accuracy)\n",
    "\n",
    "    print(f\"Epoch [{epoch + 1}/{NUM_EPOCHS}], Train Loss: {train_loss:.4f}, Train Accuracy: {train_accuracy:.2f}%, Val Loss: {val_loss:.4f}, Val Accuracy: {val_accuracy:.2f}%\")\n",
    "\n",
    "# Plot training and validation loss\n",
    "plt.figure(figsize=(10, 6))\n",
    "plt.plot(range(1, NUM_EPOCHS + 1), train_losses, label='Training Loss')\n",
    "plt.plot(range(1, NUM_EPOCHS + 1), val_losses, label='Validation Loss')\n",
    "plt.xlabel('Epoch')\n",
    "plt.ylabel('Loss')\n",
    "plt.title('Training and Validation Loss')\n",
    "plt.legend()\n",
    "plt.grid()\n",
    "plt.show()\n",
    "\n",
    "# Plot training and validation accuracy\n",
    "plt.figure(figsize=(10, 6))\n",
    "plt.plot(range(1, NUM_EPOCHS + 1), train_accuracies, label='Training Accuracy')\n",
    "plt.plot(range(1, NUM_EPOCHS + 1), val_accuracies, label='Validation Accuracy')\n",
    "plt.xlabel('Epoch')\n",
    "plt.ylabel('Accuracy (%)')\n",
    "plt.title('Training and Validation Accuracy')\n",
    "plt.legend()\n",
    "plt.grid()\n",
    "plt.show()\n",
    "\n",
    "# Evaluation on test data\n",
    "all_preds = []\n",
    "all_targets = []\n",
    "model.eval()\n",
    "with torch.no_grad():\n",
    "    for inputs, targets in test_loader:\n",
    "        inputs, targets = inputs.to(device), targets.to(device)\n",
    "        outputs = model(inputs)\n",
    "        _, predicted = torch.max(outputs, 1)\n",
    "        all_preds.extend(predicted.cpu().numpy())\n",
    "        all_targets.extend(targets.cpu().numpy())\n",
    "\n",
    "target_names = [\"Class 0\", \"Class 1\"]\n",
    "report = classification_report(all_targets, all_preds, target_names=target_names)\n",
    "print(report)\n",
    "\n",
    "# 生成混淆矩阵\n",
    "cm = confusion_matrix(all_targets, all_preds)\n",
    "\n",
    "# 绘制混淆矩阵热图\n",
    "plt.figure(figsize=(6, 4))\n",
    "sns.heatmap(cm, annot=True, fmt='d', cmap='Blues', xticklabels=target_names, yticklabels=target_names)\n",
    "plt.xlabel('Predicted Labels')\n",
    "plt.ylabel('True Labels')\n",
    "plt.title('Confusion Matrix')\n",
    "plt.show()\n",
    "\n"
   ]
  },
  {
   "cell_type": "code",
   "execution_count": 12,
   "metadata": {},
   "outputs": [
    {
     "name": "stdout",
     "output_type": "stream",
     "text": [
      "Loaded Images Shape: torch.Size([6988, 1, 28, 28])\n",
      "Loaded Labels Shape: torch.Size([6988])\n",
      "First Image Data: tensor([[[-0.2784, -0.1529, -0.0824, -0.1294, -0.2078, -0.2941, -0.4510,\n",
      "          -0.6157, -0.7804, -0.5294, -0.3490, -0.0667,  0.2235,  0.4588,\n",
      "           0.6549,  0.6000,  0.5059,  0.5922,  0.6000,  0.3020, -0.0980,\n",
      "          -0.2941, -0.5843, -1.0000, -1.0000, -0.9608, -0.9373, -0.9529],\n",
      "         [ 0.0118,  0.0824,  0.1059,  0.0353, -0.0588, -0.1294, -0.2157,\n",
      "          -0.3020, -0.2392, -0.1373, -0.1765, -0.0824,  0.1294,  0.3569,\n",
      "           0.5294,  0.4196,  0.5216,  0.5137,  0.3961,  0.1137, -0.1373,\n",
      "          -0.2784, -0.5529, -0.9137, -0.9529, -0.9686, -0.9843, -0.9765],\n",
      "         [ 0.1059,  0.1451,  0.1608,  0.1216,  0.0510,  0.0039, -0.0118,\n",
      "          -0.0118,  0.0980,  0.2235,  0.1216,  0.0745,  0.1294,  0.2706,\n",
      "           0.4118,  0.2941,  0.2471,  0.3020,  0.2157,  0.0588, -0.0118,\n",
      "          -0.1373, -0.3804, -0.5686, -0.9373, -1.0000, -1.0000, -1.0000],\n",
      "         [-0.0588, -0.0118,  0.0588,  0.0902,  0.0902,  0.0824,  0.1216,\n",
      "           0.1765,  0.0588,  0.3490,  0.3961,  0.3333,  0.2549,  0.2706,\n",
      "           0.3804,  0.2941,  0.2784,  0.3725,  0.2627,  0.0980,  0.0353,\n",
      "          -0.1373, -0.3255, -0.3490, -0.6392, -0.7804, -0.8510, -0.7882],\n",
      "         [-0.1765, -0.1059, -0.0118,  0.0588,  0.1216,  0.2078,  0.2941,\n",
      "           0.3647,  0.1529,  0.4039,  0.4510,  0.4275,  0.3490,  0.3255,\n",
      "           0.3961,  0.3020,  0.3882,  0.4118,  0.2392,  0.1059,  0.1294,\n",
      "           0.0588, -0.0510, -0.0196, -0.1373, -0.3020, -0.3961, -0.3647],\n",
      "         [-0.2078, -0.1137, -0.0196,  0.0431,  0.1608,  0.3176,  0.4196,\n",
      "           0.4353,  0.4118,  0.4118,  0.2784,  0.3020,  0.3569,  0.3725,\n",
      "           0.4039,  0.2863,  0.3490,  0.3255,  0.2392,  0.2471,  0.3961,\n",
      "           0.4353,  0.3176,  0.2078,  0.0745, -0.0353, -0.1137, -0.1059],\n",
      "         [-0.3490, -0.1608, -0.0118,  0.0667,  0.2157,  0.3961,  0.4196,\n",
      "           0.3098,  0.3098,  0.1922,  0.0275,  0.1765,  0.3569,  0.3882,\n",
      "           0.4196,  0.3176,  0.4510,  0.4196,  0.3882,  0.3412,  0.3333,\n",
      "           0.3882,  0.3255,  0.1451,  0.1137,  0.0667,  0.0196, -0.0039],\n",
      "         [-0.5137, -0.2392, -0.0039,  0.1294,  0.3020,  0.4667,  0.3725,\n",
      "           0.1529, -0.0588, -0.1059, -0.1216,  0.1686,  0.3882,  0.3882,\n",
      "           0.4431,  0.4039,  0.4353,  0.3961,  0.3490,  0.1451, -0.0431,\n",
      "           0.1216,  0.3490,  0.3333,  0.2627,  0.2549,  0.1922,  0.1059],\n",
      "         [-0.6471, -0.2941,  0.0667,  0.1765,  0.4980,  0.3882,  0.2392,\n",
      "           0.0902,  0.0275, -0.0745, -0.0667,  0.1216,  0.3333,  0.4431,\n",
      "           0.5059,  0.5765,  0.5843,  0.4431,  0.2863,  0.1451,  0.0196,\n",
      "           0.0039,  0.1922,  0.4275,  0.4588,  0.4510,  0.2392,  0.0824],\n",
      "         [-0.7098, -0.3020,  0.0902,  0.3647,  0.4196,  0.2784,  0.0353,\n",
      "          -0.0353, -0.0745, -0.0353,  0.0902,  0.2706,  0.4118,  0.4745,\n",
      "           0.5137,  0.5451,  0.5216,  0.4196,  0.2784,  0.1137, -0.0353,\n",
      "          -0.0667,  0.0745,  0.2549,  0.3804,  0.4196,  0.2471,  0.0902],\n",
      "         [-0.8039, -0.3176,  0.1294,  0.4902,  0.2784,  0.1373, -0.0980,\n",
      "          -0.0667, -0.0667,  0.0980,  0.2863,  0.4039,  0.4588,  0.5059,\n",
      "           0.5451,  0.5529,  0.4980,  0.4510,  0.3255,  0.1373, -0.0353,\n",
      "          -0.0980, -0.0118,  0.0902,  0.3020,  0.4118,  0.2784,  0.1059],\n",
      "         [-0.8353, -0.2627,  0.2627,  0.4510,  0.1765,  0.0510, -0.0275,\n",
      "           0.0118,  0.0431,  0.2392,  0.3961,  0.4196,  0.4353,  0.5294,\n",
      "           0.5922,  0.5843,  0.4980,  0.4824,  0.3804,  0.1765, -0.0196,\n",
      "          -0.0980, -0.0667, -0.0039,  0.2392,  0.4275,  0.3333,  0.1137],\n",
      "         [-0.8196, -0.1294,  0.4431,  0.3098,  0.1294, -0.0275,  0.0118,\n",
      "          -0.0431,  0.0902,  0.2549,  0.3725,  0.3804,  0.4353,  0.5686,\n",
      "           0.6157,  0.5765,  0.4902,  0.4667,  0.3804,  0.2078,  0.0039,\n",
      "          -0.1137, -0.1059, -0.0510,  0.1373,  0.4118,  0.3569,  0.1059],\n",
      "         [-0.7882, -0.0196,  0.4588,  0.1216,  0.0431, -0.1451, -0.1529,\n",
      "          -0.2314,  0.0510,  0.1843,  0.3098,  0.3804,  0.4980,  0.6157,\n",
      "           0.6235,  0.5529,  0.5137,  0.4745,  0.4196,  0.3098,  0.1059,\n",
      "          -0.0824, -0.1059, -0.0275,  0.0196,  0.3725,  0.3569,  0.0667],\n",
      "         [-0.6706,  0.0980,  0.3176,  0.0118, -0.0275, -0.1451, -0.2706,\n",
      "          -0.2000,  0.1137,  0.2000,  0.3098,  0.4118,  0.5451,  0.6392,\n",
      "           0.6392,  0.5843,  0.5294,  0.4667,  0.4510,  0.4196,  0.2078,\n",
      "          -0.0588, -0.1216, -0.0275, -0.0510,  0.3569,  0.3647,  0.0353],\n",
      "         [-0.4980,  0.2235,  0.2157,  0.0196, -0.0275, -0.0196, -0.2157,\n",
      "           0.0510,  0.2549,  0.2863,  0.3490,  0.4431,  0.5451,  0.6314,\n",
      "           0.6549,  0.6471,  0.4980,  0.4196,  0.4353,  0.4510,  0.2392,\n",
      "          -0.0902, -0.1922, -0.0824, -0.0510,  0.3725,  0.3804,  0.0196],\n",
      "         [-0.2863,  0.3020,  0.0039, -0.0667, -0.2000, -0.2627, -0.1529,\n",
      "           0.0039,  0.2471,  0.4275,  0.4039,  0.4588,  0.5843,  0.6157,\n",
      "           0.6471,  0.5608,  0.5765,  0.5059,  0.4902,  0.4510,  0.2941,\n",
      "           0.1451, -0.0196, -0.2000,  0.0039,  0.0980,  0.4275, -0.0431],\n",
      "         [-0.1922,  0.2627, -0.0431, -0.0745, -0.1373, -0.2078, -0.1373,\n",
      "          -0.0118,  0.1922,  0.3961,  0.3961,  0.4824,  0.6157,  0.6471,\n",
      "           0.6941,  0.6314,  0.5608,  0.4667,  0.4510,  0.4510,  0.3647,\n",
      "           0.2471,  0.0824, -0.1216, -0.0667,  0.0588,  0.3961, -0.0824],\n",
      "         [-0.0039,  0.2157, -0.1451, -0.1843, -0.1608, -0.2235, -0.1843,\n",
      "          -0.0824,  0.1608,  0.3804,  0.4039,  0.4980,  0.6157,  0.6235,\n",
      "           0.6549,  0.6078,  0.5608,  0.4431,  0.4196,  0.4353,  0.4039,\n",
      "           0.3333,  0.1686, -0.0353, -0.1294,  0.0275,  0.3725, -0.1294],\n",
      "         [ 0.1137,  0.1059, -0.2784, -0.3412, -0.2471, -0.2941, -0.2627,\n",
      "          -0.1843,  0.0431,  0.2784,  0.3490,  0.4902,  0.6157,  0.6078,\n",
      "           0.6314,  0.5843,  0.5608,  0.4431,  0.4118,  0.4196,  0.3804,\n",
      "           0.3333,  0.2157,  0.0431, -0.1608,  0.0039,  0.3569, -0.1451],\n",
      "         [ 0.0588, -0.0275, -0.2627, -0.2863, -0.1294, -0.1686, -0.1529,\n",
      "          -0.1137, -0.0667,  0.1686,  0.2706,  0.4745,  0.6471,  0.6549,\n",
      "           0.6941,  0.6627,  0.5451,  0.4431,  0.4196,  0.4039,  0.3412,\n",
      "           0.3098,  0.2549,  0.1451, -0.1765, -0.0510,  0.2941, -0.1686],\n",
      "         [ 0.0196,  0.0039,  0.0275,  0.0588,  0.2549,  0.2157,  0.2235,\n",
      "           0.2078,  0.1059,  0.2706,  0.3098,  0.4980,  0.6627,  0.6627,\n",
      "           0.6941,  0.6627,  0.4980,  0.4196,  0.4039,  0.3961,  0.3333,\n",
      "           0.3098,  0.2706,  0.1765, -0.1922, -0.1529,  0.1922, -0.1922],\n",
      "         [ 0.0980,  0.1608,  0.3647,  0.3569,  0.5294,  0.4980,  0.5294,\n",
      "           0.5059,  0.4275,  0.4980,  0.4118,  0.5137,  0.6392,  0.6157,\n",
      "           0.6314,  0.6000,  0.4588,  0.3725,  0.3569,  0.3725,  0.3255,\n",
      "           0.2863,  0.2000,  0.0588, -0.2000, -0.2392,  0.0980, -0.1843],\n",
      "         [ 0.1843,  0.2627,  0.5137,  0.4275,  0.5373,  0.5216,  0.5922,\n",
      "           0.5922,  0.5922,  0.6000,  0.4431,  0.4980,  0.6157,  0.6000,\n",
      "           0.6314,  0.6157,  0.4431,  0.3333,  0.3098,  0.3412,  0.3098,\n",
      "           0.2471,  0.0980, -0.0980, -0.1922, -0.2863,  0.0510, -0.1686],\n",
      "         [ 0.2706,  0.3804,  0.4902,  0.5451,  0.5765,  0.6078,  0.6157,\n",
      "           0.6000,  0.6000,  0.5922,  0.5922,  0.6235,  0.6549,  0.6549,\n",
      "           0.6314,  0.5922,  0.3412,  0.3804,  0.4353,  0.4745,  0.4667,\n",
      "           0.4196,  0.3490,  0.2941, -0.1137, -0.3333, -0.2392, -0.0039],\n",
      "         [ 0.3176,  0.4118,  0.5059,  0.5529,  0.5843,  0.6235,  0.6471,\n",
      "           0.6471,  0.6549,  0.6471,  0.6549,  0.6784,  0.7098,  0.7176,\n",
      "           0.6863,  0.6549,  0.5216,  0.5294,  0.5373,  0.5294,  0.5059,\n",
      "           0.4510,  0.3804,  0.3333,  0.1608, -0.0667, -0.0980, -0.0118],\n",
      "         [ 0.3569,  0.4431,  0.5294,  0.5686,  0.6000,  0.6549,  0.6863,\n",
      "           0.6941,  0.7020,  0.6941,  0.7020,  0.7255,  0.7569,  0.7647,\n",
      "           0.7333,  0.7020,  0.6627,  0.6392,  0.6078,  0.5765,  0.5373,\n",
      "           0.4824,  0.4275,  0.3882,  0.3804,  0.2000,  0.0902,  0.0353],\n",
      "         [ 0.3569,  0.4510,  0.5529,  0.6000,  0.6392,  0.6784,  0.7020,\n",
      "           0.7020,  0.7098,  0.7020,  0.7020,  0.7255,  0.7569,  0.7647,\n",
      "           0.7333,  0.7020,  0.6706,  0.6392,  0.6000,  0.5765,  0.5529,\n",
      "           0.5137,  0.4588,  0.4118,  0.3882,  0.3176,  0.2078,  0.0902]]])\n",
      "First Label: tensor(1.)\n"
     ]
    }
   ],
   "source": [
    "print(\"Loaded Images Shape:\", loaded_imgs.shape)\n",
    "print(\"Loaded Labels Shape:\", loaded_labels.shape)\n",
    "print(\"First Image Data:\", loaded_imgs[0])  # 示例：打印第一个图像数据\n",
    "print(\"First Label:\", loaded_labels[0])    # 示例：打印第一个标签\n"
   ]
  }
 ],
 "metadata": {
  "kernelspec": {
   "display_name": "ML",
   "language": "python",
   "name": "python3"
  },
  "language_info": {
   "codemirror_mode": {
    "name": "ipython",
    "version": 3
   },
   "file_extension": ".py",
   "mimetype": "text/x-python",
   "name": "python",
   "nbconvert_exporter": "python",
   "pygments_lexer": "ipython3",
   "version": "3.12.7"
  }
 },
 "nbformat": 4,
 "nbformat_minor": 2
}
